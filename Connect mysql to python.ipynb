{
  "nbformat": 4,
  "nbformat_minor": 0,
  "metadata": {
    "colab": {
      "name": "Connect mysql to python .ipynb",
      "private_outputs": true,
      "provenance": [],
      "collapsed_sections": [],
      "authorship_tag": "ABX9TyNy+wos5YBYml9AGJSY1o62",
      "include_colab_link": true
    },
    "kernelspec": {
      "name": "python3",
      "display_name": "Python 3"
    },
    "language_info": {
      "name": "python"
    }
  },
  "cells": [
    {
      "cell_type": "markdown",
      "metadata": {
        "id": "view-in-github",
        "colab_type": "text"
      },
      "source": [
        "<a href=\"https://colab.research.google.com/github/ashishkumar30/ML-AI-Python-Codes/blob/master/Connect%20mysql%20to%20python.ipynb\" target=\"_parent\"><img src=\"https://colab.research.google.com/assets/colab-badge.svg\" alt=\"Open In Colab\"/></a>"
      ]
    },
    {
      "cell_type": "markdown",
      "metadata": {
        "id": "-htvUFIh4EKA"
      },
      "source": [
        "Install all "
      ]
    },
    {
      "cell_type": "code",
      "metadata": {
        "id": "TijUybkX4HDT"
      },
      "source": [
        "pip install mysqlclient\n",
        "pip install mysql-connector-python\n",
        "sudo apt install mysql-server\n"
      ],
      "execution_count": null,
      "outputs": []
    },
    {
      "cell_type": "markdown",
      "metadata": {
        "id": "QESvxB_v4NpV"
      },
      "source": [
        "Setup database using shell"
      ]
    },
    {
      "cell_type": "code",
      "metadata": {
        "id": "iCjFrISZ3cUM"
      },
      "source": [
        "mysql -u root sudo mysql_secure_installation"
      ],
      "execution_count": null,
      "outputs": []
    },
    {
      "cell_type": "code",
      "metadata": {
        "id": "d-iThtBI3cYM"
      },
      "source": [
        "mysql> CREATE DATABASE matomo_db_name_here;"
      ],
      "execution_count": null,
      "outputs": []
    },
    {
      "cell_type": "code",
      "metadata": {
        "id": "DjLy2jZM3zvg"
      },
      "source": [
        "$ mysql> CREATE USER 'matomo'@'localhost' IDENTIFIED WITH mysql_native_password BY 'my-strong-password-here';"
      ],
      "execution_count": null,
      "outputs": []
    },
    {
      "cell_type": "code",
      "metadata": {
        "id": "hG0atQLs3zzN"
      },
      "source": [
        " mysql> CREATE USER 'matomo'@'localhost' IDENTIFIED BY 'my-strong-password-here';"
      ],
      "execution_count": null,
      "outputs": []
    },
    {
      "cell_type": "code",
      "metadata": {
        "id": "oQad5_cP35Ld"
      },
      "source": [
        "mysql> GRANT ALL PRIVILEGES ON database_name.* TO 'username'@'localhost';"
      ],
      "execution_count": null,
      "outputs": []
    },
    {
      "cell_type": "code",
      "metadata": {
        "id": "aLt3DeFA35Po"
      },
      "source": [
        "mysql> GRANT FILE ON *.* TO 'matomo'@'localhost';"
      ],
      "execution_count": null,
      "outputs": []
    },
    {
      "cell_type": "markdown",
      "metadata": {
        "id": "mfIyzwHe4RTl"
      },
      "source": [
        "Use now in python"
      ]
    },
    {
      "cell_type": "code",
      "metadata": {
        "id": "N5JAnE2v35Tb"
      },
      "source": [
        "import mysql.connector\n",
        "\n",
        "mydb = mysql.connector.connect(\n",
        "  host=\"localhost\",\n",
        "  user=\"matomo\",\n",
        "  password=\"ashish@99AA\"\n",
        ")\n",
        "\n",
        "print(mydb)"
      ],
      "execution_count": null,
      "outputs": []
    },
    {
      "cell_type": "markdown",
      "metadata": {
        "id": "GozeHf1h4Cbq"
      },
      "source": [
        ""
      ]
    }
  ]
}