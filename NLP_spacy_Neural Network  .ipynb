{
 "cells": [
  {
   "cell_type": "markdown",
   "metadata": {
    "colab_type": "text",
    "id": "JuLenMwqyTH3"
   },
   "source": [
    "# Neural network-Spacy Code to find salary from any string / data"
   ]
  },
  {
   "cell_type": "markdown",
   "metadata": {},
   "source": [
    "This code is an useful example for Natural Language Processing on Spacy-neural network to find salary of person from given text data string, any data/string passed to function it will give resoponse of salary from that text/data, first we have to train our model on NLP_SPACY to train this model training data (Train_DATA) is given , also if we want more data to train it on specific things we have to make data first for train this model for specific work."
   ]
  },
  {
   "cell_type": "markdown",
   "metadata": {},
   "source": [
    "Ref :- https://spacy.io/"
   ]
  },
  {
   "cell_type": "markdown",
   "metadata": {},
   "source": [
    "#### import all lib"
   ]
  },
  {
   "cell_type": "code",
   "execution_count": 1,
   "metadata": {},
   "outputs": [],
   "source": [
    "import spacy \n",
    "import random\n",
    "from spacy.matcher import PhraseMatcher"
   ]
  },
  {
   "cell_type": "markdown",
   "metadata": {},
   "source": [
    "## Load Training data"
   ]
  },
  {
   "cell_type": "code",
   "execution_count": 2,
   "metadata": {},
   "outputs": [],
   "source": [
    "# this is training data for model\n",
    "TRAIN_DATA = [                          \n",
    "              ( 'Apply on Quikr,Over 1 month ago₹20T–₹28T a monthPart-time,Hard work is the key of the success by converting in smart work and generate unexpected income by giving only 2-3 Hours, Interested ? visit:' ,{ 'entities': [ (310,40,'salary') ]}),\n",
    "              ( 'Apply on Indian Railway Post - Indian Government Jobs,5 days ago₹35T a month,Want to Salary Lakhs then do these 10 Jobs,10 Highest Paying Jobs: If you are looking for a job with a good salary, why do not you pursue a job related to a job that offers salaries in millions of crores? Job site Glassdoor has recently released a list of some jobs that get the most salaries. According to an English newspaper report, these are IT jobs for top ten fat salaries:' ,{ 'entities': [ (64,68,'salary') ]}),\n",
    "              ( 'Greetings!,• Mega Weekend Drive @ Xistence, Janakpuri*,Time: 11 AM onward,Date- Oct 09, 2019,• Travel Profile- Voice*,ïƒ˜ Salary upto 30k CTC,ïƒ˜ Cabs/shuttle,ïƒ˜ Any grad fresher/exp can apply,ïƒ˜ 24*7 shifts,ïƒ˜ Good communication skills,Call/WhatsApp @ HR Jasleen Kaur @ 98210 94033,• Travel Profile- Blended*' ,{ 'entities': [ (134,138,'salary') ]}),\n",
    "              ( ' companies, and high growth organizations. We partner with high growth companies to get you a job. Say goodbye to dead-end jobs, and work with Sourced AI to help you get placed at a high impact job. If you are a recent grad or looking for new exciting opportunities with a startup, Sourced.ai can help!,Job Type: Full-time,Salary: ₹500,000.00 to ₹600,000.00 /year,Experience:,paid media campaigns: 1 year (Preferred),Facebook & Google Ads: 1 year (Preferred),Marketing: 1 year (Preferred),Industry:' ,{ 'entities': [ (330,363,'salary') ]}),\n",
    "              ( ' Apply on Monster India,Apply on Recruit.netApply on Jobrapido.com,15 days agoFull–time,Post : Regional Business Manager,Package : 16.8 lac p.a (Salary of 1,40,000.00 per month),Note : For Fast and Instant Response Directly Whatsapp us at 9873514532 (Vikas Kashyap),Company : Global Trips India,Industry : International Tourism and Exports,Job Role: You role at the post of regional business manager will be to manage and expand the business of company by expanding our' ,{ 'entities': [ (130,144,'salary') ]}),\n",
    "              ( ' Qualifications and Skills,at least Graduate,Benefits,all,Mobile nO. 8816036632,Sanjay HR,Job Type: Full-time,Salary: ₹40,000.00 to ₹50,000.00 /month,Experience:,work: 6 years (Preferred),total work: 5 years (Required),quickbooks: 5 years (Required),Education:,Bachelors (Preferred)' ,{ 'entities': [ (118,149,'salary') ]}),\n",
    "              ( ' relationships,Ability to perform in fast-paced environments,Flexibility to work various shifts,High school degree,BSc in Marketing or related field is a plus,Job Type: Full-time,Salary: ₹20,000.00 to ₹30,000.00 /month,Experience:,Retail: 2 years (Required),customer service: 2 years (Required),total work: 2 years (Required)' ,{ 'entities': [ (185,218,'salary') ]}),\n",
    "              ( ' ,Urgently hiring,Delhi, Delhi,₹20,000 - ₹35,000 a month,4+ years experience,Job Summary,Job Summary,Executive Assistant / Secretary / PA / EA (Female only),Working Days- 5 (Sat - Sun fixed off ),**' ,{ 'entities': [ (31,49,'salary') ]}),\n",
    "              ( ' For other than BHC candidates, salary will be INR 43,901 per month plus 12% provident fund and 6% SuperAnnuation Fund.' ,{ 'entities': [ (47,67,'salary') ]}),\n",
    "              ( ' ,Urgently hiring,Uttam Nagar, Delhi, Delhi,Full-time, Internship,₹8,000 - ₹15,000 a month,Digital Marketing Manager / Digital Marketing Executive / INTERNSHIP (3K) For Tour & Travel Company,Job Summary,Apply only: Candidates who have Degree / Diploma/ Certification Course in Digital Marketing,We are looking for Digital Marketing Candidate, who will be leading our digital marketing strategies to grow our brand and business globally.' ,{ 'entities': [ (66,90,'salary') ]}),\n",
    "              ( ' ,Digital Content Strategist,Clickr Estore - Delhi, Delhi,Apply On Company Site,Delhi, Delhi,₹15,000 - ₹25,000 a month,Our Company is in need of a talented Content Writer to create compelling blog posts, product descriptions, social media contents. We’re looking for someone who will help us expand our digital footprints a looking for Digital Marketing Candidate, who will be leading our digital marketing strategies to grow our brand and business globally.' ,{ 'entities': [ (93,118,'salary') ]}),\n",
    "              ( ' New Delhi, Delhi ₹22,000 a month You will be responsbile to Implement Standard Operating' ,{ 'entities': [ (19,35,'salary') ]}),\n",
    "              ( 'Apply Now New Delhi, Delhi ₹3,00,000 - ₹3,60,000 a year 1+ years experience Job Summary Company Introductio GENIE IP Services P' ,{ 'entities': [ (26,55,'salary') ]}),\n",
    "              ( 'Brand Promoter Acceso - Delhi, Delhi Apply Now Urgently hiring Delhi, Delhi ₹25,000 a month Job Summary The current job requires' ,{ 'entities': [ (76,91,'salary') ]}),\n",
    "              ( 'Business Development Executive A&M Supplies Limited - New Delhi, Delhi Apply Now Urgently hiring New Delhi, Delhi ₹3,00,000 - ₹6,00,000 a year Job Summary About Raptor Supplies Limited:' ,{ 'entities': [ (114,142,'salary') ]}),\n",
    "              ( 'Manager Refurbishment from Used Car Industry Paix Technology Pvt Ltd ( Truebil.com ) - Delhi, Delhi Apply Now Urgently hiring Delhi, Delhi ₹3,50,000 - ₹5,50,000 a year 6+ years experience Job Summary' ,{ 'entities': [ (138,165,'salary') ]}),\n",
    "              ( 'Salary: ₹20,000.00 to ₹30,000.00 /month Experience: Retail: 2 years (Required) customer service: 2 years (Required) total work: 2 years (Required)' ,{ 'entities': [ (8,40,'salary') ]}),\n",
    "              ( 'Salary: ₹20,000.00 to ₹25,000.00 /month Experience: work: 1 year (Preferred) total work: 1 year (Preferred) quickbooks: 1 year (Preferred) Education:' ,{ 'entities': [ (8,40,'salary') ]}),\n",
    "              ( 'Salary: ₹20,000.00 to ₹25,000.00 /month Experience: work: 1 year (Preferred) total work: 1 year (Preferred) quickbooks: 1 year (Preferred) Education:' ,{ 'entities': [ (8,40,'salary') ]}),\n",
    "              ( 'Job Type: Full-time Salary: ₹20,000.00 to ₹35,000.00 /month Experience: executive assistance: 4 years (Required) Education:' ,{ 'entities': [ (28,60,'salary') ]}),\n",
    "              ( ' Job description: - Logistics Coordinator. Exp: 2-15years. Salry: 20,000-25,000. Age: 27-38years. Only apply knowledge for Import. Qualification: Bachelor.Job timing: 9:30am-6:30pm.' ,{ 'entities': [ (65,80,'salary') ]}),\n",
    "              ( ' Negotiation Organizational Skills Job description: -Logistics Coordinator.Exp: 2-15years.Salry: 20,000-25,000. Age: 27-38years. Only apply knowledge for Import. Qualification: Bachelor.Job timing: 9:30am-6:30pm. Candidates should be good English speaking.' ,{ 'entities': [ (96,110,'salary') ]}),\n",
    "              ( 'Delhi Full-time, Part-time, Commission, Volunteer ₹50,000 - ₹60,000 a month Job Summary.' ,{ 'entities': [ (50,68,'salary') ]}),\n",
    "              ( 'Job Types: Full-time, Internship Salary: ₹8,000.00 to ₹15,000.00 /month Experience: Four: 1 year (Preferred) Education: Bachelors (Preferred) Location:' ,{ 'entities': [ (40,72,'salary') ]}),\n",
    "              ( 'Job Type: Full-time Salary: ₹60,000.00 /month Experience: Node.Js: 2 years (Preferred) MY SQL: 2 years ' ,{ 'entities': [ (28,45,'salary') ]}),\n",
    "              ( 'Benefits 2 saturdays are off in a month Job Type: Full-time Salary: ₹15,000.00 to ₹18,000.00 /year Experience: work: 1 year (Preferred) total work: 1 year Preferr' ,{ 'entities': [ (68,100,'salary') ]}),\n",
    "              ( 'Job Type: Full-time Salary: ₹40,000.00 to ₹45,000.00 /month Experience: work: 2 years (Preferred) total work: 2 years (Preferred) Education: Bachelors (Preferred)' ,{ 'entities': [ (27,60,'salary') ]}),\n",
    "              ( 'Job Type: Full-time Salary: ₹30,000.00 to ₹35,000.00 /month Experience: total work: 2 years (Preferred) Operations Management: 1 year (Preferred) computer knowledge: 1 year (Preferred)' ,{ 'entities': [ (27,60,'salary') ]}),\n",
    "              ( 'Job Types: Full-time, Contract Salary: ₹18,000.00 to ₹25,000.00 /month Benefits: Phone / Internet reimbursement Travel allowance Paid leaves / Leave encashment' ,{ 'entities': [ (38,70,'salary') ]}),\n",
    "              ( 'Apply on Quikr,Over 1 month ago ₹20T–₹28T a monthPart-time ' ,{ 'entities': [ (32,42,'salary') ]}),\n",
    "              ( 'Apply on Indian Railway Post - Indian Government Jobs,5 days ago₹35T a month,Want to Salary Lakhs then do these 10 Jobs,10 Highest Paying Jobs' ,{ 'entities': [ (64,76,'salary') ]}),\n",
    "              ( 'Travel Profile- Voice*,ïƒ˜ Salary upto 30k CTC,ïƒ˜ Cabs/shuttle,ïƒ˜ Any grad fresher/exp can apply,ïƒ˜ 24*7 shifts' ,{ 'entities': [ (38,46,'salary') ]}),\n",
    "              ( 'Full-time,Salary: ₹500,000.00 to ₹600,000.00 /year,Experience:,paid media campaigns: 1 year (Preferred),Facebook & Google Ads: 1 year (Preferred)' ,{ 'entities': [ (18,50,'salary') ]}),\n",
    "              ( 'Full–time,Post : Regional Business Manager,Package : 16.8 lac p.a (Salary of 1,40,000.00 per month),Note : For Fast and Instant Response Directly Whatsapp us at 9873514532 ' ,{ 'entities': [ (76,98,'salary') ]}),\n",
    "              ( 'Job Type: Full-time,Salary: ₹40,000.00 to ₹50,000.00 /month,Experience:,work: 6 years (Preferred),total work: 5 years ' ,{ 'entities': [ (28,59,'salary') ]}),\n",
    "              ( 'Job Type: Full-time,Salary: ₹20,000.00 to ₹30,000.00 /month,Experience:,Retail: 2 years (Required)' ,{ 'entities': [ (28,59,'salary') ]}),\n",
    "              ( 'Urgently hiring,Delhi, Delhi,₹20,000 - ₹35,000 a month,4+ years experience,Job Summary,Job Summary,Executive Assistant / Secretary' ,{ 'entities': [ (29,54,'salary') ]}),\n",
    "              ( 'For other than BHC candidates, salary will be INR 43,901 per month plus 12% provident fund and 6% SuperAnnuation Fund' ,{ 'entities': [ (46,67,'salary') ]}),\n",
    "              ( 'For other than BHC candidates, salary will be INR 43,901 per month plus 12% provident fund and 6% SuperAnnuation Fund' ,{ 'entities': [ (46,67,'salary') ]}),\n",
    "              ( 'For other than BHC candidates, salary will be INR 43,901 per month plus 12% provident fund and 6% SuperAnnuation Fund' ,{ 'entities': [ (46,67,'salary') ]}),\n",
    "              ( '₹184K' ,{ 'entities': [ (0,5,'salary') ]}),\n",
    "              ( '₹ 1.3L - 4.5L' ,{ 'entities': [ (0,13,'salary') ]}),\n",
    "              ( '₹12K - ₹13K' ,{ 'entities': [ (0,11,'salary') ]}),\n",
    "              ( '₹ 7,00,000 - 9,00,000 P.A.' ,{ 'entities': [ (0,26,'salary') ]}),\n",
    "              ( '₹3,00,000 - ₹5,00,000 a year' ,{ 'entities': [ (0,28,'salary') ]}),\n",
    "              ( '₹ 1,25,000 - 2,75,000 P.A.' ,{ 'entities': [ (0,26,'salary') ]}),\n",
    "              ( '₹18,000 - ₹25,000 a month' ,{ 'entities': [ (0,25,'salary') ]}),\n",
    "              ( '₹142k - ₹509k' ,{ 'entities': [ (0,13,'salary') ]}),\n",
    "              ( '₹15T–₹20T a month' ,{ 'entities': [ (0,17,'salary') ]}),\n",
    "              ( '15-20K' ,{ 'entities': [ (0,6,'salary') ]}),\n",
    "              ( 'salary:15k to 25k' ,{ 'entities': [ (0,17,'salary') ]}),\n",
    "              ( 'Salary - 6k to 15k' ,{ 'entities': [ (0,18,'salary') ]}),\n",
    "              ( 'Salary :Rs. 40,000/-Per Month' ,{ 'entities': [ (0,29,'salary') ]}),\n",
    "              ( 'Salary - upto 20K' ,{ 'entities': [ (0,17,'salary') ]}),\n",
    "              ( '$55,000 to $65,000' ,{ 'entities': [ (0,18,'salary') ]}),\n",
    "              ( '21,000' ,{ 'entities': [ (0,6,'salary') ]}),\n",
    "              ( '- 320000 INR' ,{ 'entities': [ (0,12,'salary') ]}),\n",
    "              ( 'Salary- 13,000/- Per Month' ,{ 'entities': [ (0,26,'salary') ]}),\n",
    "              ( 'Annual Salary for the Job: 1.5 Lacs to 2.25 Lacs' ,{ 'entities': [ (0,48,'salary') ]}),\n",
    "              ( 'Earn Rs. 60,000- 1,60,000 per month' ,{ 'entities': [ (0,35,'salary') ]}),\n",
    "              ( 'INR 7.6 - 9.9 lakhs in India' ,{ 'entities': [ (0,28,'salary') ]}),\n",
    "              ( 'Recruiter - Lateral Hiring Concentrix Daksh Services India Private Limited.4.0(6026 Reviews) Company Logo 1 - 5 years ₹ 3,00,000 - 3,75,000 P.A. Gurgaon Time and Venue 4th March - 13th March , 9 AM onwards ' ,{ 'entities': [ (117,145,'salary') ]}),\n",
    "              ( 'Interested candidates can mail their resume at anika.munjal@niit-tech.com.Salary: INR 10,00,000 - 16,00,000 PA. Industry:IT-Software / Software Services Functional Area:Legal, Regulatory, Intellectual Property Role:Legal Manager Employment Type:Full Time, Permanent Keyskills' ,{ 'entities': [ (82,112,'salary') ]}),\n",
    "              ( ' Fresher Apply Documents & Payment Collection Job No Target Aim Fox 0 - 3 years ₹ 1,25,000 - 3,50,000 P.A. Delhi NCR, Noida, Gurgaon Posted: 3 days agoOpenings: 1Job Applicants: 1825SEND ME JOBS LIKE THIS Job description' ,{ 'entities': [ (80,105,'salary') ]}),\n",
    "              ( ' HIRING FOR CSO/BUILDING/FACILITIES COMPLIANCE 8 - 13 Years Greater Noida INR 10,00,000 - 16,00,000 PA. Login to Apply Apply without Registration Posted: 1 day agoOpenings: 1Job Applicants: 38Job Views: 65 Job Description NIIT Technologies hiring a pe' ,{ 'entities': [ (74,104,'salary') ]}),\n",
    "              ( 'Interested candidates can mail their resume at anika.munjal@niit-tech.com. Salary: INR 10,00,000 - 16,00,000 PA. Industry:IT-Software / Software Services Functional Area:Legal, Regulatory, Intellectual Property Role:Legal Manager Employment Type:Full Time, Permanent' ,{ 'entities': [ (82,112,'salary') ]}),\n",
    "              ( 'Salary: INR 10,00,000 - 16,00,000 PA. Industry:IT-Software / Software Services Functional Area:Legal, Regulatory, Intellectual Property Role:Legal Manager Employment Type:Full Time, Permanent' ,{ 'entities': [ (8,36,'salary') ]}),\n",
    "              ( 'Urgent Opening || For Payroll Process || EXCELLENT HR SOLUTIONS 1 - 5 years ₹ 1,00,000 - 2,75,000 P.A. Delhi NCR, Greater Noida, Noida Posted: 15 days agoOpenings: 8Job Applicants: 71SEND ME JOBS LIKE THIS Job description' ,{ 'entities': [ (75,103,'salary') ]}),\n",
    "              ( ' Manager - HR Emenox Group 6 - 8 years ₹ 12,00,000 - 15,00,000 P.A. Noida Posted: 14 days agoOpenings: 1Job Applicants: 1929SEND ME JOBS LIKE THIS Job description' ,{ 'entities': [ (38,68,'salary') ]}),\n",
    "              ( 'Accountant (looking For Immediate Joiner) Queppelin Technology Solutions Private Limited 3 - 8 years ₹ 2,00,000 - 3,50,000 P.A. Gurgaon ' ,{ 'entities': [ (100,127,'salary') ]}),\n",
    "              ( 'New Openings For data Entry Operator (deo) Freshers Only Metis Global 0 - 1 years ₹ 1,25,000 - 3,25,000 P.A. Delhi NCR, Noida, Gurgaon Posted: 7 days agoOpenings: 1Job Applicants: 41' ,{ 'entities': [ (82,108,'salary') ]}),\n",
    "              ( 'Political Consultant (bengali) // Gurgaon Adecco India Private Limited Company Logo 0 - 4 years ₹ 4,00,000 - 9,00,000 P.A. Gurgaon Posted: 8 days agoOpenings: 1Job Applicants: 45SEND ME JOBS LIKE THIS Job description' ,{ 'entities': [ (95,122,'salary') ]}),\n",
    "              ( 'Hiring For Loan Officer @ Gurgaon! with Attractive Salary !! THR Consultants Company Logo 0 - 5 years ₹ 2,00,000 - 3,00,000 P.A. Gurgaon Posted: 8 days agoOpenings: 1Job Applicants: 117SEND ME JOBS LIKE THIS Job description' ,{ 'entities': [ (101,127,'salary') ]}),\n",
    "              ( ' Hiring For Captive Unit - Salary up 9 Lacs/p.a. Talent Advisors Hiring for Cvent 1 - 6 years ₹ 4,00,000 - 9,00,000 P.A. Gurgaon Posted: 8 days agoOpenings: 15Job Applicants: 5216SEND ME JOBS LIKE THIS Job description ' ,{ 'entities': [ (94,119,'salary') ]}),\n",
    "              ( ' International BPO: American Express: Barclays: Cvent: Salary 9 lacs GR Recruitments Hiring for American Express: Cvent: Barclays: Air BNB : Personiv 1 - 6 years ₹ 3,00,000 - 7,00,000 P.A. Delhi, Noida, Gurgaon ' ,{ 'entities': [ (162,187,'salary') ]}),\n",
    "              ( 'Exe/associate Sales_branded Company TotaTalent Hiring for Sales 0 - 5 years ₹ 1,00,000 - 4,00,000 P.A. Delhi NCR, Noida, Gurgaon Posted: 22 days agoOpenings: 10Job Applicants: 16SEND ME JOBS LIKE THIS Job description' ,{ 'entities': [ (75,102,'salary') ]}),\n",
    "              ( 'Location  - Pitampura / Gurgaon / Vaishali / West Delhi Amedeus Sabre Must Male Female Both Can Apply 5 Days Working Rotational Shift Both Sided Cab With Meal Salary Up To 50k Excellent Communication Skills Call  Bhawna 9911746622 JOB FUNCTION:Ticketing/Reservation/Travel Agent/Airlines' ,{ 'entities': [ (159,175,'salary') ]}),\n",
    "              ( 'Salary for Freshers - 18k to 25k Salary For Experience - 20k to 55k 50 % Increment on your current salary Good Communication skills In house interview' ,{ 'entities': [ (22,32,'salary') ]}),\n",
    "              ( 'Urgently need Technical sales job/ Salary up to 40k sharda consultancy Services card_travel1 to 6 yrs₹As per Industry Standardslocation_onDelhi (Delhi), Delhi/ NCR (Delhi), Gurgaon (Haryana), Noida/ Greater Noida (Uttar Pradesh)' ,{ 'entities': [ (47,52,'salary') ]}),\n",
    "              ( ' JOB DESCRIPTION:- CTC UP TO - 5.8LPA Rotational Shift Creamy Incentives Cab Facility Working Location: Bangalore & Gurgaon Skype Interviews are Available For Outsiders REQUIREMENT:-' ,{ 'entities': [ (30,34,'salary') ]}),\n",
    "              ( ' Technical Support Engineer Jobs Expert Private Limited Bengaluru / Bangalore, Delhi1-11 Years 300000-600000 Posted On: 9 days ago Total Views: 80 Total Applications : 18 Job Id: 24634168 Permanent Job Description' ,{ 'entities': [ (95,109,'salary') ]}),\n",
    "              ( ' About the Job in Detail APPLY Engineer – Technology Fresher J.K. Sarawgi And Company Delhi0-3 Years 250000-350000 Posted On: 19 days ago Total Views: 220 Total Applications : 44 Job Id: 24608060Permanent Job Job Description We require an Engineer – ' ,{ 'entities': [ (100,115,'salary') ]}),\n",
    "              ( 'About the Job in Detail APPLY Network Applications Engineer Company Name Confidential Delhi, Hyderabad / Secunderabad2-12 Years 229999-4540000 Posted On: 23 days ago Total Views: 143 Total Applications : 40 Job Id: 24592276Permanent Job Job Description' ,{ 'entities': [ (128,143,'salary') ]}),\n",
    "              ( 'Position : - Hardware & Networking (L2) Qualification: , No. of Vacancies: 01 Skills Required : good Salary will be 15,000 to 20,000  Clint Services B2B (Field job) with Bike. Venue: Dawarka.' ,{ 'entities': [ (115,132,'salary') ]}),\n",
    "              ( ' About the Job in Detail APPLY Product Design & Development Engineer Fullstop Pain Private Limited Delhi5-10 Years 350000-560000 Posted On: 19 days ago Total Views: 186 Total Applications : 63 Job Id: 24608415Permanent Job Job Description' ,{ 'entities': [ (115,128,'salary') ]}),\n",
    "              ( ' or Desktop Support Engineer About the Job in Detail APPLY System Administrator,network Administrator, Desktop Support Engineer Aaryan Technology Bengaluru / Bangalore, Delhi0-5 Years 350000-670000 Posted On: 8 days ago Total Views: 6349 Total Applications : 3055 Job Id: 24149383Permanent Job,Jobs for Women Job Description:' ,{ 'entities': [ (184,197,'salary') ]}),\n",
    "              ( 'Home Job Search HTML Jobs HTML Jobs In Hyderabad / Secunderabad Angular Developer Angular Developer Enormous IT Services Private Limited Hyderabad / Secunderabad3 - 6 Years 200000 - 800000 INR APPLY Posted On: a day ago Total Views: 17 Total Applications : 2 Job Id: 24724780' ,{ 'entities': [ (172,192,'salary') ]}),\n",
    "              ( 'SSRS Consultant Enormous IT Services Private Limited Hyderabad / Secunderabad2 - 4 Years 180000 - 400000 INR APPLY Posted On: 8 days ago Total Views: 72 Total Applications : 7 Job Id: 24634356' ,{ 'entities': [ (89,108,'salary') ]}),\n",
    "              ( 'oracle integration cloud Enormous IT Services Private Limited Hyderabad / Secunderabad2 - 7 Years 200000 - 800000 INR APPLY Posted On: 5 days ago Total Views: 384 Total Applications : 9 Job Id: 24678510Permanent Job Job Description' ,{ 'entities': [ (98,114,'salary') ]}),\n",
    "]"
   ]
  },
  {
   "cell_type": "markdown",
   "metadata": {},
   "source": [
    "#### iterations for NLP model"
   ]
  },
  {
   "cell_type": "code",
   "execution_count": 3,
   "metadata": {},
   "outputs": [],
   "source": [
    "iterations = 30"
   ]
  },
  {
   "cell_type": "markdown",
   "metadata": {},
   "source": [
    "## Code of Spacy Neural nets NLP"
   ]
  },
  {
   "cell_type": "markdown",
   "metadata": {},
   "source": [
    "#### NLP_SPACY"
   ]
  },
  {
   "cell_type": "code",
   "execution_count": 9,
   "metadata": {},
   "outputs": [
    {
     "name": "stdout",
     "output_type": "stream",
     "text": [
      "Exception\n",
      "Starting first time \n",
      " \n",
      "Created blank 'en' model \n",
      "\n",
      "Number of iterations given is  30 \n",
      "\n",
      "Spacy Neural Network Statring iteration 0\n",
      "{'ner': 217.22953463326436}\n",
      "Spacy Neural Network Statring iteration 1\n",
      "{'ner': 269.65339450331305}\n",
      "Spacy Neural Network Statring iteration 2\n",
      "{'ner': 342.95130567633737}\n",
      "Spacy Neural Network Statring iteration 3\n",
      "{'ner': 656.6536093744099}\n",
      "Spacy Neural Network Statring iteration 4\n",
      "{'ner': 286.32724511438045}\n",
      "Spacy Neural Network Statring iteration 5\n",
      "{'ner': 246.55661147896564}\n",
      "Spacy Neural Network Statring iteration 6\n",
      "{'ner': 147.76721136514087}\n",
      "Spacy Neural Network Statring iteration 7\n",
      "{'ner': 91.55830771190067}\n",
      "Spacy Neural Network Statring iteration 8\n",
      "{'ner': 62.735529353414655}\n",
      "Spacy Neural Network Statring iteration 9\n",
      "{'ner': 20.58075830318895}\n",
      "Spacy Neural Network Statring iteration 10\n",
      "{'ner': 41.736097560914615}\n",
      "Spacy Neural Network Statring iteration 11\n",
      "{'ner': 5.6818866201507126}\n",
      "Spacy Neural Network Statring iteration 12\n",
      "{'ner': 7.144038705526576}\n",
      "Spacy Neural Network Statring iteration 13\n",
      "{'ner': 19.484764958337802}\n",
      "Spacy Neural Network Statring iteration 14\n",
      "{'ner': 11.996811350463126}\n",
      "Spacy Neural Network Statring iteration 15\n",
      "{'ner': 8.667153976463169}\n",
      "Spacy Neural Network Statring iteration 16\n",
      "{'ner': 4.0224938478022025}\n",
      "Spacy Neural Network Statring iteration 17\n",
      "{'ner': 5.217697325241103}\n",
      "Spacy Neural Network Statring iteration 18\n",
      "{'ner': 10.439716601162186}\n",
      "Spacy Neural Network Statring iteration 19\n",
      "{'ner': 5.039291721357061}\n",
      "Spacy Neural Network Statring iteration 20\n",
      "{'ner': 8.388283898373649}\n",
      "Spacy Neural Network Statring iteration 21\n",
      "{'ner': 21.544109989349472}\n",
      "Spacy Neural Network Statring iteration 22\n",
      "{'ner': 38.58706770166715}\n",
      "Spacy Neural Network Statring iteration 23\n",
      "{'ner': 2.898798199196245}\n",
      "Spacy Neural Network Statring iteration 24\n",
      "{'ner': 0.4526740481194648}\n",
      "Spacy Neural Network Statring iteration 25\n",
      "{'ner': 1.4455094003190565}\n",
      "Spacy Neural Network Statring iteration 26\n",
      "{'ner': 8.562637747323777}\n",
      "Spacy Neural Network Statring iteration 27\n",
      "{'ner': 16.843408226483337}\n",
      "Spacy Neural Network Statring iteration 28\n",
      "{'ner': 16.213179928525122}\n",
      "Spacy Neural Network Statring iteration 29\n",
      "{'ner': 14.097190638397018}\n",
      "Model Saved\n"
     ]
    }
   ],
   "source": [
    "try:\n",
    "    nlp=spacy.load(\"ner\")\n",
    "    print(\"Spacy model already exist\") # load existing spacy model\n",
    "    train=False\n",
    "except:\n",
    "    print(\"Exception\")\n",
    "    print(\"Starting first time \\n \")\n",
    "    nlp = spacy.blank('en')             # create blank Language class\n",
    "    ner = nlp.create_pipe('ner')\n",
    "    print(\"Created blank 'en' model \\n\")\n",
    "    print(\"Number of iterations given is \",iterations,\"\\n\")\n",
    "    nlp.add_pipe(ner)\n",
    "    train=True\n",
    "    \n",
    "if train==True:\n",
    "    # Add new entity labels to entity recognizer\n",
    "    for _, annotations in TRAIN_DATA:\n",
    "        for ent in annotations.get('entities'):\n",
    "            ner.add_label(ent[2])\n",
    "\n",
    "    # get names of other pipes to disable them during training\n",
    "    other_pipes = [pipe for pipe in nlp.pipe_names if pipe != 'ner']\n",
    "    with nlp.disable_pipes(*other_pipes):  # only train NER\n",
    "        optimizer = nlp.begin_training()\n",
    "        for itn in range(iterations):\n",
    "            print(\"Spacy Neural Network Statring iteration \" + str(itn))\n",
    "            random.shuffle(TRAIN_DATA)\n",
    "            losses = {}\n",
    "            for text, annotations in TRAIN_DATA:\n",
    "                nlp.update(\n",
    "                    [text],  # batch of texts\n",
    "                    [annotations],  # batch of annotations\n",
    "                    drop=0.2,  # dropout - make it harder to memorise data\n",
    "                    sgd=optimizer,  # callable to update weights\n",
    "                    losses=losses)\n",
    "            print(losses)\n",
    "    nlp.to_disk(\"ner\")\n",
    "    print(\"Model Saved\")\n",
    "    nlp=spacy.load(\"ner\")\n",
    "    \n",
    "else:\n",
    "    print(\"Load model 'ner' ready for output \")\n",
    "    nlp=spacy.load(\"ner\")"
   ]
  },
  {
   "cell_type": "markdown",
   "metadata": {},
   "source": [
    "#### Function to find salary , ent from given data/string "
   ]
  },
  {
   "cell_type": "code",
   "execution_count": 46,
   "metadata": {},
   "outputs": [],
   "source": [
    "def salary_Neural_nets(data):\n",
    "    data=nlp(data)\n",
    "    output_=[ent for ent in data.ents]\n",
    "    if output_:\n",
    "        return output_[0]\n",
    "    else:\n",
    "        return \"Nothing Found\""
   ]
  },
  {
   "cell_type": "markdown",
   "metadata": {},
   "source": [
    "#### data for input to get salary from it"
   ]
  },
  {
   "cell_type": "code",
   "execution_count": 49,
   "metadata": {},
   "outputs": [],
   "source": [
    "data=\"A new judicial office was created in the name of the Company, to which Sir Elijah Impey was appointed, though he never consented to draw the additional Salary: ₹100,000.00 to ₹400,000.00 /month offered to him.\""
   ]
  },
  {
   "cell_type": "markdown",
   "metadata": {},
   "source": [
    "#### Run Function (salary_Neural_nets)"
   ]
  },
  {
   "cell_type": "code",
   "execution_count": 55,
   "metadata": {},
   "outputs": [
    {
     "data": {
      "text/plain": [
       "₹100,000.00 to ₹400,000.00 /month"
      ]
     },
     "execution_count": 55,
     "metadata": {},
     "output_type": "execute_result"
    }
   ],
   "source": [
    "salary_Neural_nets(data)"
   ]
  },
  {
   "cell_type": "markdown",
   "metadata": {},
   "source": [
    "* * * * * "
   ]
  },
  {
   "cell_type": "markdown",
   "metadata": {},
   "source": [
    "* * * * * "
   ]
  },
  {
   "cell_type": "markdown",
   "metadata": {
    "colab_type": "text",
    "id": "NYdrywCnzgb6"
   },
   "source": [
    "# Code to clean data for model"
   ]
  },
  {
   "cell_type": "markdown",
   "metadata": {},
   "source": [
    "To make Training data we have to make training data first to train our model for specific task"
   ]
  },
  {
   "cell_type": "markdown",
   "metadata": {},
   "source": [
    "#### data cleanning code for salary:"
   ]
  },
  {
   "cell_type": "code",
   "execution_count": 52,
   "metadata": {
    "colab": {},
    "colab_type": "code",
    "id": "dn70BRBLzgu4"
   },
   "outputs": [],
   "source": [
    "def preparing_data_for_model(making_data,starting,ending):\n",
    "    string=making_data\n",
    "    z,i=['1','2','3','4','5','6','7','8','9','0'],0\n",
    "    for x in string:\n",
    "        if x in z:\n",
    "            print(i,end=\" \")\n",
    "        i=i+1\n",
    "    print(\"\\n \\n Starting ending Index-----\\n \",starting,ending)\n",
    "    print(\"\\nSalary output-----\\n \",string[starting:ending])\n",
    "    print(\"\\nFinal_string -----\\n \",string)\n",
    "    print(\"\\n\")\n",
    "    sb,eb,endb, startb,comma='{','}',')','(',','\n",
    "    string_=(f\" {startb} '{string}' ,{sb} 'entities': [ {startb}{starting},{ending},'salary'{endb} ]{eb}{endb}{comma}\")\n",
    "    return string_"
   ]
  },
  {
   "cell_type": "markdown",
   "metadata": {
    "colab_type": "text",
    "id": "yJceq2Uczvwi"
   },
   "source": [
    "#### provide data for cleanning"
   ]
  },
  {
   "cell_type": "code",
   "execution_count": 53,
   "metadata": {
    "colab": {},
    "colab_type": "code",
    "id": "7UXq4BoezgyH"
   },
   "outputs": [],
   "source": [
    "making_data=\"oracle integration cloud Enormous IT Services Private Limited Hyderabad / Secunderabad2 - 7 Years 200000 - 800000 INR APPLY Posted On: 5 days ago Total Views: 384 Total Applications : 9 Job Id: 24678510Permanent Job Job Description\""
   ]
  },
  {
   "cell_type": "markdown",
   "metadata": {
    "colab_type": "text",
    "id": "843NrHrHzzaQ"
   },
   "source": [
    "#### cleanned data to be passed for tranning"
   ]
  },
  {
   "cell_type": "code",
   "execution_count": 54,
   "metadata": {
    "colab": {
     "base_uri": "https://localhost:8080/",
     "height": 173
    },
    "colab_type": "code",
    "id": "dY6FX956zg0a",
    "outputId": "6097671e-c8d2-492c-94f9-acf07d2f7470"
   },
   "outputs": [
    {
     "name": "stdout",
     "output_type": "stream",
     "text": [
      "86 90 98 99 100 101 102 103 107 108 109 110 111 112 135 159 160 161 184 194 195 196 197 198 199 200 201 \n",
      " \n",
      " Starting ending Index-----\n",
      "  98 114\n",
      "\n",
      "Salary output-----\n",
      "  200000 - 800000 \n",
      "\n",
      "Final_string -----\n",
      "  oracle integration cloud Enormous IT Services Private Limited Hyderabad / Secunderabad2 - 7 Years 200000 - 800000 INR APPLY Posted On: 5 days ago Total Views: 384 Total Applications : 9 Job Id: 24678510Permanent Job Job Description\n",
      "\n",
      "\n"
     ]
    },
    {
     "data": {
      "text/plain": [
       "\" ( 'oracle integration cloud Enormous IT Services Private Limited Hyderabad / Secunderabad2 - 7 Years 200000 - 800000 INR APPLY Posted On: 5 days ago Total Views: 384 Total Applications : 9 Job Id: 24678510Permanent Job Job Description' ,{ 'entities': [ (98,114,'salary') ]}),\""
      ]
     },
     "execution_count": 54,
     "metadata": {},
     "output_type": "execute_result"
    }
   ],
   "source": [
    "preparing_data_for_model(making_data,98,114)"
   ]
  },
  {
   "cell_type": "markdown",
   "metadata": {},
   "source": [
    "* * * * "
   ]
  },
  {
   "cell_type": "markdown",
   "metadata": {},
   "source": [
    "* * * * "
   ]
  }
 ],
 "metadata": {
  "colab": {
   "collapsed_sections": [],
   "name": "salary finder with Neural_nets.ipynb",
   "provenance": []
  },
  "kernelspec": {
   "display_name": "Python 3",
   "language": "python",
   "name": "python3"
  },
  "language_info": {
   "codemirror_mode": {
    "name": "ipython",
    "version": 3
   },
   "file_extension": ".py",
   "mimetype": "text/x-python",
   "name": "python",
   "nbconvert_exporter": "python",
   "pygments_lexer": "ipython3",
   "version": "3.7.6"
  }
 },
 "nbformat": 4,
 "nbformat_minor": 1
}
