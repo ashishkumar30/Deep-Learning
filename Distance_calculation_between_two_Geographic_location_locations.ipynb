{
  "nbformat": 4,
  "nbformat_minor": 0,
  "metadata": {
    "kernelspec": {
      "display_name": "Python 3",
      "language": "python",
      "name": "python3"
    },
    "language_info": {
      "codemirror_mode": {
        "name": "ipython",
        "version": 3
      },
      "file_extension": ".py",
      "mimetype": "text/x-python",
      "name": "python",
      "nbconvert_exporter": "python",
      "pygments_lexer": "ipython3",
      "version": "3.8.5"
    },
    "colab": {
      "name": "Distance calculation between two Geographic location locations.ipynb",
      "provenance": [],
      "collapsed_sections": [],
      "include_colab_link": true
    }
  },
  "cells": [
    {
      "cell_type": "markdown",
      "metadata": {
        "id": "view-in-github",
        "colab_type": "text"
      },
      "source": [
        "<a href=\"https://colab.research.google.com/github/ashishkumar30/ML-AI-Python-Codes/blob/master/Distance_calculation_between_two_Geographic_location_locations.ipynb\" target=\"_parent\"><img src=\"https://colab.research.google.com/assets/colab-badge.svg\" alt=\"Open In Colab\"/></a>"
      ]
    },
    {
      "cell_type": "markdown",
      "metadata": {
        "id": "S9KvQsEJxasn"
      },
      "source": [
        "# Distance calculation between two Geographic location locations"
      ]
    },
    {
      "cell_type": "markdown",
      "metadata": {
        "id": "23j410URxasw"
      },
      "source": [
        "# Google API implementation"
      ]
    },
    {
      "cell_type": "markdown",
      "metadata": {
        "id": "EtRP8yy4xasx"
      },
      "source": [
        "Levenshtein Algorithm\n"
      ]
    },
    {
      "cell_type": "markdown",
      "metadata": {
        "id": "D9JBccO5xasx"
      },
      "source": [
        "Google map API "
      ]
    },
    {
      "cell_type": "code",
      "metadata": {
        "id": "sSH7TDKsxasy",
        "outputId": "2443ed70-0158-4d42-ef12-db5fb51b2af6"
      },
      "source": [
        "api='AIzaSyBoyBoJmy4zBoJmy4zmy4z4DRfKyBoJmy4zuo'\n",
        "print(api)"
      ],
      "execution_count": null,
      "outputs": [
        {
          "output_type": "stream",
          "text": [
            "AIzaSyBoyBoJmy4zBoJmy4zmy4z4DRfKyBoJmy4zuo\n"
          ],
          "name": "stdout"
        }
      ]
    },
    {
      "cell_type": "markdown",
      "metadata": {
        "id": "pvMTMicIxas1"
      },
      "source": [
        "### Response"
      ]
    },
    {
      "cell_type": "code",
      "metadata": {
        "id": "5pkcbFKKxas1",
        "outputId": "054cabea-5de5-4d9c-bef7-58534b8709b9"
      },
      "source": [
        "import urllib.request\n",
        "import json\n",
        "def google_api():\n",
        "\n",
        "    url='https://maps.googleapis.com/maps/api/directions/json?'\n",
        "    api='AIzaSyBoyBoJmy4zBoJmy4zmy4z4DRfKyBoJmy4zuo'\n",
        "    \n",
        "    # inputs get\n",
        "    \n",
        "    origin=input(\"\\n \\n '{Enter Start Location}' :- \").replace(' ','+')\n",
        "    destination=input(\"\\n \\n '{Enter End Location}'  :- \").replace(' ','+')\n",
        "    \n",
        "    # sending to api \n",
        "    \n",
        "    nav_request='origin={}&destination={}&key={}'.format(origin,destination,api)\n",
        "    request=url+nav_request\n",
        "    \n",
        "    #getting data\n",
        "    \n",
        "    response=urllib.request.urlopen(request).read().decode('utf-8')\n",
        "    data=json.loads(response)\n",
        "    return data\n",
        "\n",
        "# run function\n",
        "data=google_api()"
      ],
      "execution_count": null,
      "outputs": [
        {
          "output_type": "stream",
          "text": [
            "\n",
            " \n",
            " '{Enter Start Location}' :- Delhi Rohini\n",
            "\n",
            " \n",
            " '{Enter End Location}'  :- Mumbai \n"
          ],
          "name": "stdout"
        }
      ]
    },
    {
      "cell_type": "markdown",
      "metadata": {
        "id": "pLtMXAckxas2"
      },
      "source": [
        "### All Keys in Data"
      ]
    },
    {
      "cell_type": "code",
      "metadata": {
        "id": "t7aOHiElxas3",
        "outputId": "0c5adb5d-8ad8-40b0-a8bc-89af1ffd7e41"
      },
      "source": [
        "keys=(list(data['routes'][0]['legs'][0].keys()))\n",
        "keys"
      ],
      "execution_count": null,
      "outputs": [
        {
          "output_type": "execute_result",
          "data": {
            "text/plain": [
              "['distance',\n",
              " 'duration',\n",
              " 'end_address',\n",
              " 'end_location',\n",
              " 'start_address',\n",
              " 'start_location',\n",
              " 'steps',\n",
              " 'traffic_speed_entry',\n",
              " 'via_waypoint']"
            ]
          },
          "metadata": {
            "tags": []
          },
          "execution_count": 3
        }
      ]
    },
    {
      "cell_type": "markdown",
      "metadata": {
        "id": "f8yWPNhIxas4"
      },
      "source": [
        "#### Getting All Detais"
      ]
    },
    {
      "cell_type": "code",
      "metadata": {
        "id": "CuYMIGojxas5",
        "outputId": "899098ee-5ed9-4593-8bc1-56d54dff4139"
      },
      "source": [
        "### Calcunating Distance\n",
        "\n",
        "distance=data['routes'][0]['legs'][0]['distance'].get(\"text\")\n",
        "print(\"\\n \\n '{Distance}' :- \",distance,\"\\n\")\n",
        "\n",
        "\n",
        "### calculating Time\n",
        "time_foot=data['routes'][0]['legs'][0]['duration'].get(\"text\")\n",
        "print(\"'{Time Taken}' :- \",time_foot,\"\\n\")\n",
        "\n",
        "### End address\n",
        "\n",
        "end_address=data['routes'][0]['legs'][0]['end_address']\n",
        "print(\"'{End Address}' :- \",end_address,\"\\n\")\n",
        "\n",
        "### Start address\n",
        "\n",
        "start_address=data['routes'][0]['legs'][0]['start_address']\n",
        "print(\"'{Start Address}' :- \",start_address,\"\\n \\n \")"
      ],
      "execution_count": null,
      "outputs": [
        {
          "output_type": "stream",
          "text": [
            "\n",
            " \n",
            " '{Distance}' :-  1,419 km \n",
            "\n",
            "'{Time Taken}' :-  1 day 1 hour \n",
            "\n",
            "'{End Address}' :-  Mumbai, Maharashtra, India \n",
            "\n",
            "'{Start Address}' :-  Rohini, New Delhi, Delhi, India \n",
            " \n",
            " \n"
          ],
          "name": "stdout"
        }
      ]
    },
    {
      "cell_type": "markdown",
      "metadata": {
        "id": "f6AofH9Cxas5"
      },
      "source": [
        "#### Getting Directions"
      ]
    },
    {
      "cell_type": "code",
      "metadata": {
        "id": "Yi9ZnhFGxas6",
        "outputId": "c2d73a73-5900-4042-a7fb-976c866b575f"
      },
      "source": [
        "def get_directions(data):\n",
        "        for i in range (len(data['routes'][0]['legs'][0]['steps'])):\n",
        "            clean=data['routes'][0]['legs'][0]['steps'][i]\n",
        "            clean.pop(\"polyline\")\n",
        "            clean.pop(\"html_instructions\")\n",
        "            print(\" -- Step -- \", {i})\n",
        "            print(\"\\n\",clean,'\\n \\n ')\n",
        "            \n",
        "## call function\n",
        "#data=google_api()\n",
        "get_directions(data)"
      ],
      "execution_count": null,
      "outputs": [
        {
          "output_type": "stream",
          "text": [
            " -- Step --  {0}\n",
            "\n",
            " {'distance': {'text': '6.1 km', 'value': 6130}, 'duration': {'text': '16 mins', 'value': 956}, 'end_location': {'lat': 28.7042711, 'lng': 77.1308658}, 'start_location': {'lat': 28.7382715, 'lng': 77.0822278}, 'travel_mode': 'DRIVING'} \n",
            " \n",
            " \n",
            " -- Step --  {1}\n",
            "\n",
            " {'distance': {'text': '24 m', 'value': 24}, 'duration': {'text': '1 min', 'value': 15}, 'end_location': {'lat': 28.7041454, 'lng': 77.1310649}, 'maneuver': 'straight', 'start_location': {'lat': 28.7042711, 'lng': 77.1308658}, 'travel_mode': 'DRIVING'} \n",
            " \n",
            " \n",
            " -- Step --  {2}\n",
            "\n",
            " {'distance': {'text': '2.3 km', 'value': 2264}, 'duration': {'text': '7 mins', 'value': 399}, 'end_location': {'lat': 28.6940172, 'lng': 77.1509913}, 'maneuver': 'straight', 'start_location': {'lat': 28.7041454, 'lng': 77.1310649}, 'travel_mode': 'DRIVING'} \n",
            " \n",
            " \n",
            " -- Step --  {3}\n",
            "\n",
            " {'distance': {'text': '3.1 km', 'value': 3101}, 'duration': {'text': '5 mins', 'value': 295}, 'end_location': {'lat': 28.6768915, 'lng': 77.141162}, 'maneuver': 'ramp-right', 'start_location': {'lat': 28.6940172, 'lng': 77.1509913}, 'travel_mode': 'DRIVING'} \n",
            " \n",
            " \n",
            " -- Step --  {4}\n",
            "\n",
            " {'distance': {'text': '0.9 km', 'value': 860}, 'duration': {'text': '1 min', 'value': 68}, 'end_location': {'lat': 28.6696612, 'lng': 77.13814599999999}, 'maneuver': 'keep-right', 'start_location': {'lat': 28.6768915, 'lng': 77.141162}, 'travel_mode': 'DRIVING'} \n",
            " \n",
            " \n",
            " -- Step --  {5}\n",
            "\n",
            " {'distance': {'text': '0.7 km', 'value': 709}, 'duration': {'text': '1 min', 'value': 62}, 'end_location': {'lat': 28.6651601, 'lng': 77.1330061}, 'maneuver': 'keep-right', 'start_location': {'lat': 28.6696612, 'lng': 77.13814599999999}, 'travel_mode': 'DRIVING'} \n",
            " \n",
            " \n",
            " -- Step --  {6}\n",
            "\n",
            " {'distance': {'text': '0.4 km', 'value': 380}, 'duration': {'text': '1 min', 'value': 49}, 'end_location': {'lat': 28.6627528, 'lng': 77.13025130000001}, 'maneuver': 'keep-left', 'start_location': {'lat': 28.6651601, 'lng': 77.1330061}, 'travel_mode': 'DRIVING'} \n",
            " \n",
            " \n",
            " -- Step --  {7}\n",
            "\n",
            " {'distance': {'text': '53 m', 'value': 53}, 'duration': {'text': '1 min', 'value': 6}, 'end_location': {'lat': 28.6624228, 'lng': 77.1298534}, 'start_location': {'lat': 28.6627528, 'lng': 77.13025130000001}, 'travel_mode': 'DRIVING'} \n",
            " \n",
            " \n",
            " -- Step --  {8}\n",
            "\n",
            " {'distance': {'text': '2.7 km', 'value': 2682}, 'duration': {'text': '4 mins', 'value': 262}, 'end_location': {'lat': 28.6405647, 'lng': 77.1289359}, 'start_location': {'lat': 28.6624228, 'lng': 77.1298534}, 'travel_mode': 'DRIVING'} \n",
            " \n",
            " \n",
            " -- Step --  {9}\n",
            "\n",
            " {'distance': {'text': '7.0 km', 'value': 6950}, 'duration': {'text': '10 mins', 'value': 586}, 'end_location': {'lat': 28.5943381, 'lng': 77.16659279999999}, 'maneuver': 'keep-right', 'start_location': {'lat': 28.6405647, 'lng': 77.1289359}, 'travel_mode': 'DRIVING'} \n",
            " \n",
            " \n",
            " -- Step --  {10}\n",
            "\n",
            " {'distance': {'text': '0.3 km', 'value': 281}, 'duration': {'text': '1 min', 'value': 30}, 'end_location': {'lat': 28.5928058, 'lng': 77.16834}, 'maneuver': 'ramp-left', 'start_location': {'lat': 28.5943381, 'lng': 77.16659279999999}, 'travel_mode': 'DRIVING'} \n",
            " \n",
            " \n",
            " -- Step --  {11}\n",
            "\n",
            " {'distance': {'text': '0.2 km', 'value': 219}, 'duration': {'text': '1 min', 'value': 24}, 'end_location': {'lat': 28.5932142, 'lng': 77.1668218}, 'maneuver': 'keep-right', 'start_location': {'lat': 28.5928058, 'lng': 77.16834}, 'travel_mode': 'DRIVING'} \n",
            " \n",
            " \n",
            " -- Step --  {12}\n",
            "\n",
            " {'distance': {'text': '0.2 km', 'value': 204}, 'duration': {'text': '1 min', 'value': 24}, 'end_location': {'lat': 28.5937079, 'lng': 77.1651352}, 'maneuver': 'turn-slight-left', 'start_location': {'lat': 28.5932142, 'lng': 77.1668218}, 'travel_mode': 'DRIVING'} \n",
            " \n",
            " \n",
            " -- Step --  {13}\n",
            "\n",
            " {'distance': {'text': '1.1 km', 'value': 1099}, 'duration': {'text': '2 mins', 'value': 100}, 'end_location': {'lat': 28.5895361, 'lng': 77.1549393}, 'maneuver': 'merge', 'start_location': {'lat': 28.5937079, 'lng': 77.1651352}, 'travel_mode': 'DRIVING'} \n",
            " \n",
            " \n",
            " -- Step --  {14}\n",
            "\n",
            " {'distance': {'text': '1.7 km', 'value': 1682}, 'duration': {'text': '2 mins', 'value': 128}, 'end_location': {'lat': 28.5788521, 'lng': 77.1447658}, 'maneuver': 'straight', 'start_location': {'lat': 28.5895361, 'lng': 77.1549393}, 'travel_mode': 'DRIVING'} \n",
            " \n",
            " \n",
            " -- Step --  {15}\n",
            "\n",
            " {'distance': {'text': '1.3 km', 'value': 1262}, 'duration': {'text': '2 mins', 'value': 91}, 'end_location': {'lat': 28.5714225, 'lng': 77.1358619}, 'maneuver': 'keep-right', 'start_location': {'lat': 28.5788521, 'lng': 77.1447658}, 'travel_mode': 'DRIVING'} \n",
            " \n",
            " \n",
            " -- Step --  {16}\n",
            "\n",
            " {'distance': {'text': '3.8 km', 'value': 3828}, 'duration': {'text': '4 mins', 'value': 240}, 'end_location': {'lat': 28.5431002, 'lng': 77.1185441}, 'maneuver': 'keep-right', 'start_location': {'lat': 28.5714225, 'lng': 77.1358619}, 'travel_mode': 'DRIVING'} \n",
            " \n",
            " \n",
            " -- Step --  {17}\n",
            "\n",
            " {'distance': {'text': '4.4 km', 'value': 4404}, 'duration': {'text': '5 mins', 'value': 276}, 'end_location': {'lat': 28.5119964, 'lng': 77.0935233}, 'maneuver': 'keep-left', 'start_location': {'lat': 28.5431002, 'lng': 77.1185441}, 'travel_mode': 'DRIVING'} \n",
            " \n",
            " \n",
            " -- Step --  {18}\n",
            "\n",
            " {'distance': {'text': '34.0 km', 'value': 33959}, 'duration': {'text': '37 mins', 'value': 2232}, 'end_location': {'lat': 28.3042192, 'lng': 76.8766566}, 'maneuver': 'keep-right', 'start_location': {'lat': 28.5119964, 'lng': 77.0935233}, 'travel_mode': 'DRIVING'} \n",
            " \n",
            " \n",
            " -- Step --  {19}\n",
            "\n",
            " {'distance': {'text': '18.9 km', 'value': 18899}, 'duration': {'text': '21 mins', 'value': 1230}, 'end_location': {'lat': 28.1985818, 'lng': 76.7436515}, 'maneuver': 'straight', 'start_location': {'lat': 28.3042192, 'lng': 76.8766566}, 'travel_mode': 'DRIVING'} \n",
            " \n",
            " \n",
            " -- Step --  {20}\n",
            "\n",
            " {'distance': {'text': '100 km', 'value': 100336}, 'duration': {'text': '1 hour 32 mins', 'value': 5502}, 'end_location': {'lat': 27.5663436, 'lng': 76.07372889999999}, 'maneuver': 'keep-left', 'start_location': {'lat': 28.1985818, 'lng': 76.7436515}, 'travel_mode': 'DRIVING'} \n",
            " \n",
            " \n",
            " -- Step --  {21}\n",
            "\n",
            " {'distance': {'text': '2.3 km', 'value': 2260}, 'duration': {'text': '2 mins', 'value': 119}, 'end_location': {'lat': 27.5464583, 'lng': 76.07293709999999}, 'maneuver': 'keep-left', 'start_location': {'lat': 27.5663436, 'lng': 76.07372889999999}, 'travel_mode': 'DRIVING'} \n",
            " \n",
            " \n",
            " -- Step --  {22}\n",
            "\n",
            " {'distance': {'text': '79 m', 'value': 79}, 'duration': {'text': '1 min', 'value': 4}, 'end_location': {'lat': 27.545796, 'lng': 76.0726456}, 'maneuver': 'keep-left', 'start_location': {'lat': 27.5464583, 'lng': 76.07293709999999}, 'travel_mode': 'DRIVING'} \n",
            " \n",
            " \n",
            " -- Step --  {23}\n",
            "\n",
            " {'distance': {'text': '40.2 km', 'value': 40220}, 'duration': {'text': '38 mins', 'value': 2269}, 'end_location': {'lat': 27.2342851, 'lng': 75.9487588}, 'maneuver': 'keep-left', 'start_location': {'lat': 27.545796, 'lng': 76.0726456}, 'travel_mode': 'DRIVING'} \n",
            " \n",
            " \n",
            " -- Step --  {24}\n",
            "\n",
            " {'distance': {'text': '53.1 km', 'value': 53051}, 'duration': {'text': '51 mins', 'value': 3051}, 'end_location': {'lat': 26.8702523, 'lng': 75.69467759999999}, 'maneuver': 'keep-left', 'start_location': {'lat': 27.2342851, 'lng': 75.9487588}, 'travel_mode': 'DRIVING'} \n",
            " \n",
            " \n",
            " -- Step --  {25}\n",
            "\n",
            " {'distance': {'text': '72.3 km', 'value': 72348}, 'duration': {'text': '1 hour 5 mins', 'value': 3910}, 'end_location': {'lat': 26.6119952, 'lng': 75.0374154}, 'maneuver': 'keep-left', 'start_location': {'lat': 26.8702523, 'lng': 75.69467759999999}, 'travel_mode': 'DRIVING'} \n",
            " \n",
            " \n",
            " -- Step --  {26}\n",
            "\n",
            " {'distance': {'text': '13.2 km', 'value': 13227}, 'duration': {'text': '13 mins', 'value': 789}, 'end_location': {'lat': 26.5900183, 'lng': 74.9073998}, 'maneuver': 'keep-left', 'start_location': {'lat': 26.6119952, 'lng': 75.0374154}, 'travel_mode': 'DRIVING'} \n",
            " \n",
            " \n",
            " -- Step --  {27}\n",
            "\n",
            " {'distance': {'text': '5.0 km', 'value': 5001}, 'duration': {'text': '6 mins', 'value': 338}, 'end_location': {'lat': 26.601224, 'lng': 74.86272400000001}, 'start_location': {'lat': 26.5900183, 'lng': 74.9073998}, 'travel_mode': 'DRIVING'} \n",
            " \n",
            " \n",
            " -- Step --  {28}\n",
            "\n",
            " {'distance': {'text': '31.3 km', 'value': 31309}, 'duration': {'text': '28 mins', 'value': 1708}, 'end_location': {'lat': 26.417781, 'lng': 74.6710507}, 'maneuver': 'keep-right', 'start_location': {'lat': 26.601224, 'lng': 74.86272400000001}, 'travel_mode': 'DRIVING'} \n",
            " \n",
            " \n",
            " -- Step --  {29}\n",
            "\n",
            " {'distance': {'text': '13.7 km', 'value': 13669}, 'duration': {'text': '12 mins', 'value': 697}, 'end_location': {'lat': 26.3370585, 'lng': 74.5738909}, 'start_location': {'lat': 26.417781, 'lng': 74.6710507}, 'travel_mode': 'DRIVING'} \n",
            " \n",
            " \n",
            " -- Step --  {30}\n",
            "\n",
            " {'distance': {'text': '1.2 km', 'value': 1176}, 'duration': {'text': '2 mins', 'value': 96}, 'end_location': {'lat': 26.3315463, 'lng': 74.5639501}, 'start_location': {'lat': 26.3370585, 'lng': 74.5738909}, 'travel_mode': 'DRIVING'} \n",
            " \n",
            " \n",
            " -- Step --  {31}\n",
            "\n",
            " {'distance': {'text': '46.7 km', 'value': 46654}, 'duration': {'text': '43 mins', 'value': 2598}, 'end_location': {'lat': 26.0309542, 'lng': 74.2817055}, 'maneuver': 'merge', 'start_location': {'lat': 26.3315463, 'lng': 74.5639501}, 'travel_mode': 'DRIVING'} \n",
            " \n",
            " \n",
            " -- Step --  {32}\n",
            "\n",
            " {'distance': {'text': '190 km', 'value': 190391}, 'duration': {'text': '3 hours 15 mins', 'value': 11698}, 'end_location': {'lat': 24.6576235, 'lng': 73.7211052}, 'maneuver': 'straight', 'start_location': {'lat': 26.0309542, 'lng': 74.2817055}, 'travel_mode': 'DRIVING'} \n",
            " \n",
            " \n",
            " -- Step --  {33}\n",
            "\n",
            " {'distance': {'text': '3.6 km', 'value': 3597}, 'duration': {'text': '5 mins', 'value': 273}, 'end_location': {'lat': 24.6265989, 'lng': 73.7116375}, 'start_location': {'lat': 24.6576235, 'lng': 73.7211052}, 'travel_mode': 'DRIVING'} \n",
            " \n",
            " \n",
            " -- Step --  {34}\n",
            "\n",
            " {'distance': {'text': '0.8 km', 'value': 752}, 'duration': {'text': '2 mins', 'value': 90}, 'end_location': {'lat': 24.6227157, 'lng': 73.717726}, 'maneuver': 'roundabout-left', 'start_location': {'lat': 24.6265989, 'lng': 73.7116375}, 'travel_mode': 'DRIVING'} \n",
            " \n",
            " \n",
            " -- Step --  {35}\n",
            "\n",
            " {'distance': {'text': '2.0 km', 'value': 1984}, 'duration': {'text': '3 mins', 'value': 187}, 'end_location': {'lat': 24.6076043, 'lng': 73.7090569}, 'maneuver': 'turn-right', 'start_location': {'lat': 24.6227157, 'lng': 73.717726}, 'travel_mode': 'DRIVING'} \n",
            " \n",
            " \n",
            " -- Step --  {36}\n",
            "\n",
            " {'distance': {'text': '2.3 km', 'value': 2288}, 'duration': {'text': '5 mins', 'value': 279}, 'end_location': {'lat': 24.5886647, 'lng': 73.7136747}, 'maneuver': 'roundabout-left', 'start_location': {'lat': 24.6076043, 'lng': 73.7090569}, 'travel_mode': 'DRIVING'} \n",
            " \n",
            " \n",
            " -- Step --  {37}\n",
            "\n",
            " {'distance': {'text': '0.5 km', 'value': 518}, 'duration': {'text': '1 min', 'value': 82}, 'end_location': {'lat': 24.5864906, 'lng': 73.7094138}, 'maneuver': 'turn-right', 'start_location': {'lat': 24.5886647, 'lng': 73.7136747}, 'travel_mode': 'DRIVING'} \n",
            " \n",
            " \n",
            " -- Step --  {38}\n",
            "\n",
            " {'distance': {'text': '0.8 km', 'value': 768}, 'duration': {'text': '2 mins', 'value': 96}, 'end_location': {'lat': 24.5796035, 'lng': 73.7095643}, 'maneuver': 'turn-left', 'start_location': {'lat': 24.5864906, 'lng': 73.7094138}, 'travel_mode': 'DRIVING'} \n",
            " \n",
            " \n",
            " -- Step --  {39}\n",
            "\n",
            " {'distance': {'text': '1.1 km', 'value': 1052}, 'duration': {'text': '2 mins', 'value': 118}, 'end_location': {'lat': 24.579413, 'lng': 73.6994572}, 'maneuver': 'roundabout-left', 'start_location': {'lat': 24.5796035, 'lng': 73.7095643}, 'travel_mode': 'DRIVING'} \n",
            " \n",
            " \n",
            " -- Step --  {40}\n",
            "\n",
            " {'distance': {'text': '0.2 km', 'value': 210}, 'duration': {'text': '1 min', 'value': 45}, 'end_location': {'lat': 24.5775635, 'lng': 73.6991395}, 'maneuver': 'turn-left', 'start_location': {'lat': 24.579413, 'lng': 73.6994572}, 'travel_mode': 'DRIVING'} \n",
            " \n",
            " \n",
            " -- Step --  {41}\n",
            "\n",
            " {'distance': {'text': '0.2 km', 'value': 174}, 'duration': {'text': '1 min', 'value': 34}, 'end_location': {'lat': 24.5762797, 'lng': 73.7000681}, 'maneuver': 'turn-left', 'start_location': {'lat': 24.5775635, 'lng': 73.6991395}, 'travel_mode': 'DRIVING'} \n",
            " \n",
            " \n",
            " -- Step --  {42}\n",
            "\n",
            " {'distance': {'text': '2.1 km', 'value': 2139}, 'duration': {'text': '4 mins', 'value': 227}, 'end_location': {'lat': 24.5601893, 'lng': 73.6929832}, 'maneuver': 'roundabout-left', 'start_location': {'lat': 24.5762797, 'lng': 73.7000681}, 'travel_mode': 'DRIVING'} \n",
            " \n",
            " \n",
            " -- Step --  {43}\n",
            "\n",
            " {'distance': {'text': '1.7 km', 'value': 1731}, 'duration': {'text': '3 mins', 'value': 166}, 'end_location': {'lat': 24.5458193, 'lng': 73.6870393}, 'maneuver': 'straight', 'start_location': {'lat': 24.5601893, 'lng': 73.6929832}, 'travel_mode': 'DRIVING'} \n",
            " \n",
            " \n",
            " -- Step --  {44}\n",
            "\n",
            " {'distance': {'text': '2.6 km', 'value': 2605}, 'duration': {'text': '4 mins', 'value': 245}, 'end_location': {'lat': 24.5245304, 'lng': 73.6770818}, 'start_location': {'lat': 24.5458193, 'lng': 73.6870393}, 'travel_mode': 'DRIVING'} \n",
            " \n",
            " \n",
            " -- Step --  {45}\n",
            "\n",
            " {'distance': {'text': '3.8 km', 'value': 3776}, 'duration': {'text': '5 mins', 'value': 278}, 'end_location': {'lat': 24.4979953, 'lng': 73.6553964}, 'maneuver': 'turn-right', 'start_location': {'lat': 24.5245304, 'lng': 73.6770818}, 'travel_mode': 'DRIVING'} \n",
            " \n",
            " \n",
            " -- Step --  {46}\n",
            "\n",
            " {'distance': {'text': '54.1 km', 'value': 54059}, 'duration': {'text': '53 mins', 'value': 3151}, 'end_location': {'lat': 24.0742644, 'lng': 73.6840017}, 'maneuver': 'straight', 'start_location': {'lat': 24.4979953, 'lng': 73.6553964}, 'travel_mode': 'DRIVING'} \n",
            " \n",
            " \n",
            " -- Step --  {47}\n",
            "\n",
            " {'distance': {'text': '62.3 km', 'value': 62318}, 'duration': {'text': '1 hour 10 mins', 'value': 4216}, 'end_location': {'lat': 23.6885068, 'lng': 73.3835485}, 'maneuver': 'straight', 'start_location': {'lat': 24.0742644, 'lng': 73.6840017}, 'travel_mode': 'DRIVING'} \n",
            " \n",
            " \n",
            " -- Step --  {48}\n",
            "\n",
            " {'distance': {'text': '0.2 km', 'value': 170}, 'duration': {'text': '1 min', 'value': 45}, 'end_location': {'lat': 23.6870915, 'lng': 73.38291889999999}, 'maneuver': 'turn-left', 'start_location': {'lat': 23.6885068, 'lng': 73.3835485}, 'travel_mode': 'DRIVING'} \n",
            " \n",
            " \n",
            " -- Step --  {49}\n",
            "\n",
            " {'distance': {'text': '2.5 km', 'value': 2514}, 'duration': {'text': '5 mins', 'value': 295}, 'end_location': {'lat': 23.6710895, 'lng': 73.3709945}, 'maneuver': 'turn-right', 'start_location': {'lat': 23.6870915, 'lng': 73.38291889999999}, 'travel_mode': 'DRIVING'} \n",
            " \n",
            " \n",
            " -- Step --  {50}\n",
            "\n",
            " {'distance': {'text': '23.2 km', 'value': 23161}, 'duration': {'text': '23 mins', 'value': 1404}, 'end_location': {'lat': 23.4873765, 'lng': 73.2988909}, 'maneuver': 'turn-left', 'start_location': {'lat': 23.6710895, 'lng': 73.3709945}, 'travel_mode': 'DRIVING'} \n",
            " \n",
            " \n",
            " -- Step --  {51}\n",
            "\n",
            " {'distance': {'text': '4.3 km', 'value': 4305}, 'duration': {'text': '5 mins', 'value': 318}, 'end_location': {'lat': 23.4532964, 'lng': 73.3157461}, 'maneuver': 'turn-left', 'start_location': {'lat': 23.4873765, 'lng': 73.2988909}, 'travel_mode': 'DRIVING'} \n",
            " \n",
            " \n",
            " -- Step --  {52}\n",
            "\n",
            " {'distance': {'text': '91.4 km', 'value': 91439}, 'duration': {'text': '1 hour 26 mins', 'value': 5137}, 'end_location': {'lat': 22.8189373, 'lng': 73.6217061}, 'maneuver': 'turn-left', 'start_location': {'lat': 23.4532964, 'lng': 73.3157461}, 'travel_mode': 'DRIVING'} \n",
            " \n",
            " \n",
            " -- Step --  {53}\n",
            "\n",
            " {'distance': {'text': '0.5 km', 'value': 492}, 'duration': {'text': '1 min', 'value': 42}, 'end_location': {'lat': 22.8170747, 'lng': 73.6256878}, 'maneuver': 'turn-left', 'start_location': {'lat': 22.8189373, 'lng': 73.6217061}, 'travel_mode': 'DRIVING'} \n",
            " \n",
            " \n",
            " -- Step --  {54}\n",
            "\n",
            " {'distance': {'text': '6.2 km', 'value': 6160}, 'duration': {'text': '6 mins', 'value': 354}, 'end_location': {'lat': 22.7879818, 'lng': 73.6724156}, 'start_location': {'lat': 22.8170747, 'lng': 73.6256878}, 'travel_mode': 'DRIVING'} \n",
            " \n",
            " \n",
            " -- Step --  {55}\n",
            "\n",
            " {'distance': {'text': '10.5 km', 'value': 10499}, 'duration': {'text': '10 mins', 'value': 585}, 'end_location': {'lat': 22.7374606, 'lng': 73.5953147}, 'maneuver': 'straight', 'start_location': {'lat': 22.7879818, 'lng': 73.6724156}, 'travel_mode': 'DRIVING'} \n",
            " \n",
            " \n",
            " -- Step --  {56}\n",
            "\n",
            " {'distance': {'text': '26.9 km', 'value': 26928}, 'duration': {'text': '32 mins', 'value': 1905}, 'end_location': {'lat': 22.5563416, 'lng': 73.4576692}, 'maneuver': 'turn-left', 'start_location': {'lat': 22.7374606, 'lng': 73.5953147}, 'travel_mode': 'DRIVING'} \n",
            " \n",
            " \n",
            " -- Step --  {57}\n",
            "\n",
            " {'distance': {'text': '7.8 km', 'value': 7805}, 'duration': {'text': '8 mins', 'value': 471}, 'end_location': {'lat': 22.4920426, 'lng': 73.4676303}, 'start_location': {'lat': 22.5563416, 'lng': 73.4576692}, 'travel_mode': 'DRIVING'} \n",
            " \n",
            " \n",
            " -- Step --  {58}\n",
            "\n",
            " {'distance': {'text': '31.4 km', 'value': 31399}, 'duration': {'text': '31 mins', 'value': 1868}, 'end_location': {'lat': 22.3513705, 'lng': 73.2319122}, 'maneuver': 'roundabout-left', 'start_location': {'lat': 22.4920426, 'lng': 73.4676303}, 'travel_mode': 'DRIVING'} \n",
            " \n",
            " \n",
            " -- Step --  {59}\n",
            "\n",
            " {'distance': {'text': '0.5 km', 'value': 464}, 'duration': {'text': '1 min', 'value': 62}, 'end_location': {'lat': 22.34974, 'lng': 73.2357542}, 'maneuver': 'turn-sharp-left', 'start_location': {'lat': 22.3513705, 'lng': 73.2319122}, 'travel_mode': 'DRIVING'} \n",
            " \n",
            " \n",
            " -- Step --  {60}\n",
            "\n",
            " {'distance': {'text': '14.5 km', 'value': 14517}, 'duration': {'text': '14 mins', 'value': 834}, 'end_location': {'lat': 22.2391844, 'lng': 73.21020349999999}, 'start_location': {'lat': 22.34974, 'lng': 73.2357542}, 'travel_mode': 'DRIVING'} \n",
            " \n",
            " \n",
            " -- Step --  {61}\n",
            "\n",
            " {'distance': {'text': '65.6 km', 'value': 65636}, 'duration': {'text': '1 hour 0 mins', 'value': 3598}, 'end_location': {'lat': 21.7202569, 'lng': 73.0395315}, 'maneuver': 'straight', 'start_location': {'lat': 22.2391844, 'lng': 73.21020349999999}, 'travel_mode': 'DRIVING'} \n",
            " \n",
            " \n",
            " -- Step --  {62}\n",
            "\n",
            " {'distance': {'text': '0.1 km', 'value': 100}, 'duration': {'text': '1 min', 'value': 9}, 'end_location': {'lat': 21.7198171, 'lng': 73.04036090000001}, 'maneuver': 'turn-slight-left', 'start_location': {'lat': 21.7202569, 'lng': 73.0395315}, 'travel_mode': 'DRIVING'} \n",
            " \n",
            " \n",
            " -- Step --  {63}\n",
            "\n",
            " {'distance': {'text': '2.5 km', 'value': 2493}, 'duration': {'text': '3 mins', 'value': 208}, 'end_location': {'lat': 21.70465, 'lng': 73.0581151}, 'maneuver': 'turn-slight-right', 'start_location': {'lat': 21.7198171, 'lng': 73.04036090000001}, 'travel_mode': 'DRIVING'} \n",
            " \n",
            " \n",
            " -- Step --  {64}\n",
            "\n",
            " {'distance': {'text': '118 km', 'value': 117896}, 'duration': {'text': '2 hours 5 mins', 'value': 7482}, 'end_location': {'lat': 20.7633323, 'lng': 73.05775120000001}, 'maneuver': 'turn-slight-left', 'start_location': {'lat': 21.70465, 'lng': 73.0581151}, 'travel_mode': 'DRIVING'} \n",
            " \n",
            " \n",
            " -- Step --  {65}\n",
            "\n",
            " {'distance': {'text': '163 km', 'value': 163093}, 'duration': {'text': '2 hours 35 mins', 'value': 9312}, 'end_location': {'lat': 19.4698091, 'lng': 72.8906058}, 'maneuver': 'keep-right', 'start_location': {'lat': 20.7633323, 'lng': 73.05775120000001}, 'travel_mode': 'DRIVING'} \n",
            " \n",
            " \n",
            " -- Step --  {66}\n",
            "\n",
            " {'distance': {'text': '0.3 km', 'value': 321}, 'duration': {'text': '1 min', 'value': 20}, 'end_location': {'lat': 19.4677972, 'lng': 72.8884139}, 'maneuver': 'ramp-right', 'start_location': {'lat': 19.4698091, 'lng': 72.8906058}, 'travel_mode': 'DRIVING'} \n",
            " \n",
            " \n",
            " -- Step --  {67}\n",
            "\n",
            " {'distance': {'text': '22.4 km', 'value': 22399}, 'duration': {'text': '29 mins', 'value': 1764}, 'end_location': {'lat': 19.2853277, 'lng': 72.90446}, 'start_location': {'lat': 19.4677972, 'lng': 72.8884139}, 'travel_mode': 'DRIVING'} \n",
            " \n",
            " \n",
            " -- Step --  {68}\n",
            "\n",
            " {'distance': {'text': '13.2 km', 'value': 13182}, 'duration': {'text': '22 mins', 'value': 1304}, 'end_location': {'lat': 19.1931496, 'lng': 72.859518}, 'maneuver': 'straight', 'start_location': {'lat': 19.2853277, 'lng': 72.90446}, 'travel_mode': 'DRIVING'} \n",
            " \n",
            " \n",
            " -- Step --  {69}\n",
            "\n",
            " {'distance': {'text': '5.0 km', 'value': 4990}, 'duration': {'text': '7 mins', 'value': 433}, 'end_location': {'lat': 19.1488141, 'lng': 72.8563939}, 'maneuver': 'keep-right', 'start_location': {'lat': 19.1931496, 'lng': 72.859518}, 'travel_mode': 'DRIVING'} \n",
            " \n",
            " \n",
            " -- Step --  {70}\n",
            "\n",
            " {'distance': {'text': '2.5 km', 'value': 2488}, 'duration': {'text': '4 mins', 'value': 264}, 'end_location': {'lat': 19.1266428, 'lng': 72.85559409999999}, 'maneuver': 'keep-right', 'start_location': {'lat': 19.1488141, 'lng': 72.8563939}, 'travel_mode': 'DRIVING'} \n",
            " \n",
            " \n",
            " -- Step --  {71}\n",
            "\n",
            " {'distance': {'text': '0.8 km', 'value': 798}, 'duration': {'text': '1 min', 'value': 68}, 'end_location': {'lat': 19.1197693, 'lng': 72.85578509999999}, 'maneuver': 'keep-right', 'start_location': {'lat': 19.1266428, 'lng': 72.85559409999999}, 'travel_mode': 'DRIVING'} \n",
            " \n",
            " \n",
            " -- Step --  {72}\n",
            "\n",
            " {'distance': {'text': '2.3 km', 'value': 2346}, 'duration': {'text': '3 mins', 'value': 180}, 'end_location': {'lat': 19.0991497, 'lng': 72.8540131}, 'maneuver': 'keep-right', 'start_location': {'lat': 19.1197693, 'lng': 72.85578509999999}, 'travel_mode': 'DRIVING'} \n",
            " \n",
            " \n",
            " -- Step --  {73}\n",
            "\n",
            " {'distance': {'text': '2.3 km', 'value': 2344}, 'duration': {'text': '3 mins', 'value': 186}, 'end_location': {'lat': 19.0841631, 'lng': 72.84623909999999}, 'maneuver': 'keep-right', 'start_location': {'lat': 19.0991497, 'lng': 72.8540131}, 'travel_mode': 'DRIVING'} \n",
            " \n",
            " \n",
            " -- Step --  {74}\n",
            "\n",
            " {'distance': {'text': '1.1 km', 'value': 1076}, 'duration': {'text': '3 mins', 'value': 188}, 'end_location': {'lat': 19.0745818, 'lng': 72.8469898}, 'maneuver': 'ramp-left', 'start_location': {'lat': 19.0841631, 'lng': 72.84623909999999}, 'travel_mode': 'DRIVING'} \n",
            " \n",
            " \n",
            " -- Step --  {75}\n",
            "\n",
            " {'distance': {'text': '1.5 km', 'value': 1467}, 'duration': {'text': '4 mins', 'value': 220}, 'end_location': {'lat': 19.0744964, 'lng': 72.86047909999999}, 'maneuver': 'turn-left', 'start_location': {'lat': 19.0745818, 'lng': 72.8469898}, 'travel_mode': 'DRIVING'} \n",
            " \n",
            " \n",
            " -- Step --  {76}\n",
            "\n",
            " {'distance': {'text': '1.8 km', 'value': 1850}, 'duration': {'text': '5 mins', 'value': 319}, 'end_location': {'lat': 19.0761471, 'lng': 72.87458099999999}, 'maneuver': 'turn-right', 'start_location': {'lat': 19.0744964, 'lng': 72.86047909999999}, 'travel_mode': 'DRIVING'} \n",
            " \n",
            " \n",
            " -- Step --  {77}\n",
            "\n",
            " {'distance': {'text': '0.1 km', 'value': 98}, 'duration': {'text': '1 min', 'value': 16}, 'end_location': {'lat': 19.0765581, 'lng': 72.875379}, 'maneuver': 'turn-slight-left', 'start_location': {'lat': 19.0761471, 'lng': 72.87458099999999}, 'travel_mode': 'DRIVING'} \n",
            " \n",
            " \n",
            " -- Step --  {78}\n",
            "\n",
            " {'distance': {'text': '0.3 km', 'value': 260}, 'duration': {'text': '1 min', 'value': 50}, 'end_location': {'lat': 19.075963, 'lng': 72.877641}, 'maneuver': 'straight', 'start_location': {'lat': 19.0765581, 'lng': 72.875379}, 'travel_mode': 'DRIVING'} \n",
            " \n",
            " \n"
          ],
          "name": "stdout"
        }
      ]
    },
    {
      "cell_type": "markdown",
      "metadata": {
        "id": "JSZeWwz_xas7"
      },
      "source": [
        "******"
      ]
    },
    {
      "cell_type": "markdown",
      "metadata": {
        "id": "ct1lpPVWxas7"
      },
      "source": [
        "*****"
      ]
    },
    {
      "cell_type": "markdown",
      "metadata": {
        "id": "7lhtI_Nyxas7"
      },
      "source": [
        "# Google Distance Matrix API in Python "
      ]
    },
    {
      "cell_type": "code",
      "metadata": {
        "id": "nnG1aYS-xas8",
        "outputId": "e0c83d18-f288-4ded-bf28-5db99a34f8dc"
      },
      "source": [
        "# importing Google Matrix module \n",
        "import googlemaps \n",
        "\n",
        "# Requires API key \n",
        "gmaps = googlemaps.Client(key=api) \n",
        "\n",
        "start=input(\"\\n \\n '{Enter Start Location}' :- \")\n",
        "end=input(\"\\n \\n '{Enter End Location}'  :- \")\n",
        "\n",
        "# Requires cities name \n",
        "my_dist = gmaps.distance_matrix(start,end)\n",
        "\n",
        "# Printing the result "
      ],
      "execution_count": null,
      "outputs": [
        {
          "output_type": "stream",
          "text": [
            "\n",
            " \n",
            " '{Enter Start Location}' :- rajasthan\n",
            "\n",
            " \n",
            " '{Enter End Location}'  :- delhi\n"
          ],
          "name": "stdout"
        }
      ]
    },
    {
      "cell_type": "markdown",
      "metadata": {
        "id": "t5f77h8Cxas8"
      },
      "source": [
        "*****"
      ]
    },
    {
      "cell_type": "markdown",
      "metadata": {
        "id": "uuyLGZ2Yxas8"
      },
      "source": [
        "#### Getting Details from Google matrix api"
      ]
    },
    {
      "cell_type": "code",
      "metadata": {
        "id": "5nkY47R9xas9",
        "outputId": "5ae8fbaf-983a-4a03-c08d-6df78a7ae1fb"
      },
      "source": [
        "origin_addresses=my_dist.get(\"origin_addresses\")[0]\n",
        "print(\"\\n \\n \",\"'{Origin Addresses}':-\",origin_addresses,\"\\n\")\n",
        "\n",
        "# Destination\n",
        "\n",
        "destination_addresses=my_dist.get(\"destination_addresses\")[0]\n",
        "print(\"'{Destination Addresses}':-\",destination_addresses,\"\\n\")\n",
        "\n",
        "#Distance\n",
        "\n",
        "distance=my_dist.get(\"rows\")[0]['elements'][0]['distance']\n",
        "distance=distance.get('text')\n",
        "print(\"'{Distance}':-\",distance,\"\\n\")\n",
        "\n",
        "#Duration\n",
        "\n",
        "duration=my_dist.get(\"rows\")[0]['elements'][0]['duration']\n",
        "duration=duration.get('text')\n",
        "print(\"'{Duration}':-\",duration,\"\\n \\n \")"
      ],
      "execution_count": null,
      "outputs": [
        {
          "output_type": "stream",
          "text": [
            "\n",
            " \n",
            "  '{Origin Addresses}':- Rajasthan, India \n",
            "\n",
            "'{Destination Addresses}':- Delhi, India \n",
            "\n",
            "'{Distance}':- 406 km \n",
            "\n",
            "'{Duration}':- 8 hours 21 mins \n",
            " \n",
            " \n"
          ],
          "name": "stdout"
        }
      ]
    },
    {
      "cell_type": "markdown",
      "metadata": {
        "id": "IZ_x6Kmuxas-"
      },
      "source": [
        "*****"
      ]
    },
    {
      "cell_type": "markdown",
      "metadata": {
        "id": "yTkY1trRxas-"
      },
      "source": [
        "# Finding Address distance using 'Geopy' Python Library "
      ]
    },
    {
      "cell_type": "markdown",
      "metadata": {
        "id": "5gEEhLR3xas-"
      },
      "source": [
        "#### geopy"
      ]
    },
    {
      "cell_type": "code",
      "metadata": {
        "id": "M03WXqNWxas_",
        "outputId": "76c7938d-0a3c-4c4a-ad21-46270c32e613"
      },
      "source": [
        "from geopy.geocoders import Nominatim\n",
        "from geopy.distance import geodesic\n",
        "\n",
        "geolocator = Nominatim(user_agent=\"ashish\")\n",
        "\n",
        "# enter first location\n",
        "\n",
        "\n",
        "start=input(\"\\n \\n '{Enter Start Location}' :- \")\n",
        "end=input(\"\\n \\n '{Enter End Location}'  :- \")\n",
        "\n",
        "\n",
        "\n",
        "location_1 = geolocator.geocode(start)\n",
        "\n",
        "# enter second location\n",
        "\n",
        "location_2= geolocator.geocode(end)\n",
        "\n",
        "print(\"\\n \\n '{First Location}' :-\",location_1.address,\"\\n\")\n",
        "print(\"\\n \\n '{Second Location}':-\",location_2.address,\"\\n\")\n",
        "\n",
        "### Getting Latitude and Longitude\n",
        "\n",
        "first_=(location_1.latitude, location_1.longitude)\n",
        "second_=(location_2.latitude, location_2.longitude)\n",
        "\n",
        "\n",
        "print(\"\\n \\n '{First Location latitude & Longitude}' :-\",first_,\"\\n\")\n",
        "print(\"\\n \\n '{Second Location latitude & Longitude}':-\",second_,\"\\n\")\n",
        "\n",
        "#Distance\n",
        "\n",
        "distance=round(geodesic(first_, second_).kilometers,3)\n",
        "print(\"\\n \\n '{Distance}' :- \",distance,\"\\n \\n \")"
      ],
      "execution_count": null,
      "outputs": [
        {
          "output_type": "stream",
          "text": [
            "\n",
            " \n",
            " '{Enter Start Location}' :- manali\n",
            "\n",
            " \n",
            " '{Enter End Location}'  :- delhi\n",
            "\n",
            " \n",
            " '{First Location}' :- Manali, Kullu, Himachal Pradesh, India \n",
            "\n",
            "\n",
            " \n",
            " '{Second Location}':- Delhi, Kotwali Tehsil, Central Delhi, Delhi, 110006, India \n",
            "\n",
            "\n",
            " \n",
            " '{First Location latitude & Longitude}' :- (32.26309405, 77.18812183241408) \n",
            "\n",
            "\n",
            " \n",
            " '{Second Location latitude & Longitude}':- (28.6517178, 77.2219388) \n",
            "\n",
            "\n",
            " \n",
            " '{Distance}' :-  400.372 \n",
            " \n",
            " \n"
          ],
          "name": "stdout"
        }
      ]
    },
    {
      "cell_type": "markdown",
      "metadata": {
        "id": "pFTFmbrpxas_"
      },
      "source": [
        "*****"
      ]
    },
    {
      "cell_type": "markdown",
      "metadata": {
        "id": "_Ufnn7vRxatA"
      },
      "source": [
        "*****"
      ]
    }
  ]
}