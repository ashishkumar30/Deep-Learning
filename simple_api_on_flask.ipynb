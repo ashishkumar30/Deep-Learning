{
  "nbformat": 4,
  "nbformat_minor": 0,
  "metadata": {
    "colab": {
      "name": "simple api on flask.ipynb",
      "private_outputs": true,
      "provenance": [],
      "collapsed_sections": [],
      "authorship_tag": "ABX9TyMTOlh53ao0Nx5Wlw2/xxyn",
      "include_colab_link": true
    },
    "kernelspec": {
      "name": "python3",
      "display_name": "Python 3"
    }
  },
  "cells": [
    {
      "cell_type": "markdown",
      "metadata": {
        "id": "view-in-github",
        "colab_type": "text"
      },
      "source": [
        "<a href=\"https://colab.research.google.com/github/ashishkumar30/ML-AI-Python-Codes/blob/master/simple_api_on_flask.ipynb\" target=\"_parent\"><img src=\"https://colab.research.google.com/assets/colab-badge.svg\" alt=\"Open In Colab\"/></a>"
      ]
    },
    {
      "cell_type": "code",
      "metadata": {
        "id": "oSzQAwJMWHiZ"
      },
      "source": [
        "import os\r\n",
        "import secrets\r\n",
        "\r\n",
        "from string import punctuation\r\n",
        "from flask import Flask, request, jsonify\r\n",
        "from flask import Flask, request, send_from_directory\r\n",
        "\r\n",
        "# Project imported\r\n",
        "\r\n",
        "\r\n",
        "app = Flask(__name__)\r\n",
        "\r\n",
        "# checking folder\r\n",
        "# to save files in a folder for processing\r\n",
        "\r\n",
        "files = os.listdir()\r\n",
        "check = os.path.isdir('files')\r\n",
        "if check:\r\n",
        "    print(\"yes files folder exists\")\r\n",
        "else:\r\n",
        "    os.mkdir(\"files\")\r\n",
        "    print(\"No folder for saving pdf found creating new files folder\")\r\n",
        "# to save files in a folder for processing\r\n",
        "\r\n",
        "\r\n",
        "\r\n",
        "@app.route('/', methods=['GET', 'POST'])\r\n",
        "def bsa_main():\r\n",
        "    # get file from request\r\n",
        "    # for single file\r\n",
        "    file = request.files['file']\r\n",
        "   \r\n",
        "    # saving file to local system\r\n",
        "    file = request.files['file']\r\n",
        "    name = secrets.token_hex(64) + '.pdf'\r\n",
        "    UPLOAD_FOLDER = os.path.join(os.getcwd(), 'files')\r\n",
        "    file.save(os.path.join(UPLOAD_FOLDER, name))\r\n",
        "    path_of_file = os.path.join(UPLOAD_FOLDER, name)\r\n",
        "    print(\"file location is:-\",path_of_file, \"File name is:-\",name)\r\n",
        "\r\n",
        "\r\n",
        "    # for multiple files\r\n",
        "    file_multiple = flask.request.files.getlist(\"file\")\r\n",
        "    print(file_multiple)\r\n",
        "\r\n",
        "\r\n",
        "    # GEt data from Form  \r\n",
        "    title_str = request.form['titlestring']\r\n",
        "    if title_str:\r\n",
        "        title_str=title_str.title()\r\n",
        "        return {\"Title string\":title_str}\r\n",
        "    else:\r\n",
        "        return {\"Title string\":\"None\"}\r\n",
        "\r\n",
        "\r\n",
        "if __name__ == '__main__':\r\n",
        "    #app.run(host='0.0.0.0',debug=True,port=5000)\r\n",
        "    app.run()\r\n",
        "\r\n"
      ],
      "execution_count": null,
      "outputs": []
    }
  ]
}