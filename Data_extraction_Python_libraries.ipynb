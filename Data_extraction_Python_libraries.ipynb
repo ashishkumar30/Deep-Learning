{
  "nbformat": 4,
  "nbformat_minor": 0,
  "metadata": {
    "colab": {
      "name": "Data_extraction Python libraries.ipynb",
      "private_outputs": true,
      "provenance": [],
      "collapsed_sections": [],
      "authorship_tag": "ABX9TyN0E2bshgb3ZUM4tTch9B1V",
      "include_colab_link": true
    },
    "kernelspec": {
      "name": "python3",
      "display_name": "Python 3"
    }
  },
  "cells": [
    {
      "cell_type": "markdown",
      "metadata": {
        "id": "view-in-github",
        "colab_type": "text"
      },
      "source": [
        "<a href=\"https://colab.research.google.com/github/ashishkumar30/ML-AI-Python-Codes/blob/master/Data_extraction_Python_libraries.ipynb\" target=\"_parent\"><img src=\"https://colab.research.google.com/assets/colab-badge.svg\" alt=\"Open In Colab\"/></a>"
      ]
    },
    {
      "cell_type": "markdown",
      "metadata": {
        "id": "-4dfsSoXlblO"
      },
      "source": [
        "##import all required libraries"
      ]
    },
    {
      "cell_type": "code",
      "metadata": {
        "id": "WiVXz7WCpIom"
      },
      "source": [
        "import re\r\n",
        "import io\r\n",
        "import os\r\n",
        "import sys\r\n",
        "import PIL\r\n",
        "import json\r\n",
        "import time\r\n",
        "import spacy\r\n",
        "import fuckit\r\n",
        "import PyPDF2\r\n",
        "import tabula\r\n",
        "import string\r\n",
        "import pypdftk\r\n",
        "import secrets\r\n",
        "import pdfquery\r\n",
        "import winerror\r\n",
        "import textract\r\n",
        "import win32com\r\n",
        "import requests\r\n",
        "import pdf2image\r\n",
        "import pdftohtml\r\n",
        "import pdfreader\r\n",
        "import pdftotree\r\n",
        "import pdfplumber\r\n",
        "import pytesseract\r\n",
        "import numpy as np\r\n",
        "import PDFNetPython\r\n",
        "import pandas as pd\r\n",
        "import tesseract-ocr\r\n",
        "from PIL import Image\r\n",
        "from logging import *\r\n",
        "from io import StringIO\r\n",
        "from tika import parser\r\n",
        "import pytesseract as pt\r\n",
        "from pprint import pprint\r\n",
        "from tabula import read_pdf\r\n",
        "import miner_text_generator\r\n",
        "from xml.dom import minidom\r\n",
        "from wand.image import Image\r\n",
        "from itertools import compress\r\n",
        "from pytesseract import Output\r\n",
        "from google.cloud import vision\r\n",
        "import dateutil.parser as dparser\r\n",
        "import xml.etree.ElementTree as xml\r\n",
        "from pdfminer.layout import LAParams\r\n",
        "from pdfminer.pdfpage import PDFPage\r\n",
        "from difflib import get_close_matches\r\n",
        "from pdf2image import convert_from_path\r\n",
        "from pdfminer.pdfparser import PDFParser\r\n",
        "from werkzeug.utils import secure_filename\r\n",
        "from recursive_diff import recursive_diff x\r\n",
        "from botocore.exceptions import ClientError\r\n",
        "from win32com.client.dynamic import Dispatch\r\n",
        "from pdfminer.pdfdocument import PDFDocument\r\n",
        "from pdfminer.converter import TextConverter\r\n",
        "from pdfminer.high_level import extract_text\r\n",
        "from pdfminer.pdfinterp import PDFResourceManager\r\n",
        "from pdfminer.pdfinterp import PDFPageInterpreter\r\n",
        "from pdfreader import PDFDocument, SimplePDFViewer\r\n",
        "from miner_text_generator import extract_text_by_page\r\n",
        "from win32com.client.dynamic import Dispatch, ERRORS_BAD_CONTEXT\r\n",
        "from pdfminer.pdfinterp import PDFResourceManager, PDFPageInterpreter"
      ],
      "execution_count": null,
      "outputs": []
    },
    {
      "cell_type": "markdown",
      "metadata": {
        "id": "lN7qggo-pKaF"
      },
      "source": [
        "##Filename"
      ]
    },
    {
      "cell_type": "code",
      "metadata": {
        "id": "3YG_eUJ4lc9s"
      },
      "source": [
        "filename=\"bank_statement_ashish.pdf\"\r\n",
        "image_filename='image.jpg'\r\n",
        "pdffilename='nlp_research.pdf'"
      ],
      "execution_count": null,
      "outputs": []
    },
    {
      "cell_type": "markdown",
      "metadata": {
        "id": "N9qzslQun4Cp"
      },
      "source": [
        "# Tabula\r\n"
      ]
    },
    {
      "cell_type": "markdown",
      "metadata": {
        "id": "xBTnsq-ln7aS"
      },
      "source": [
        "Extracting tabular data from tabula"
      ]
    },
    {
      "cell_type": "code",
      "metadata": {
        "id": "kA2KlqqLXKiB"
      },
      "source": [
        "#pip install tabula-py\r\n",
        "\r\n",
        "import tabula\r\n",
        "\r\n",
        "df= tabula.read_pdf(filename, pages=\"all\",\r\n",
        "                    multiple_tables=True,\r\n",
        "                    guess=True, stream=False)\r\n",
        "print(\"output is\",\"*\"*40)\r\n",
        "\r\n",
        "print(\"Length of dataframe/data is\",len(df),\"\\n\")\r\n",
        "print(df[0])"
      ],
      "execution_count": null,
      "outputs": []
    },
    {
      "cell_type": "markdown",
      "metadata": {
        "id": "kaeRnGUTpU9c"
      },
      "source": [
        "##combination of Pdfminer pdfplumber and pypdf2 to extract tabular data and string data"
      ]
    },
    {
      "cell_type": "code",
      "metadata": {
        "id": "u9UTZWEoXKkh"
      },
      "source": [
        "# pip install PyPDF2\r\n",
        "# pip install pdfplumber\r\n",
        "\r\n",
        "import PyPDF2\r\n",
        "import pdfplumber\r\n",
        "\r\n",
        "# @reading files\r\n",
        "\r\n",
        "#table_settings={\"vertical_strategy\": \"lines\", \"horizontal_strategy\": \"lines\"}\r\n",
        "\r\n",
        "\r\n",
        "def reading_list_data(filename):\r\n",
        "    with pdfplumber.open(filename) as pdf:\r\n",
        "        data = ''.join([page.extract_text() for page in pdf.pages])\r\n",
        "    pages = PyPDF2.PdfFileReader(open(filename, 'rb')).numPages\r\n",
        "    pdfdata = [pdfplumber.open(filename).pages[y].extract_table() for y in range(pages)]\r\n",
        "    converting_data = lambda input_data: [item for sublist in pdfdata if sublist != None for item in sublist if\r\n",
        "                                          item != None]\r\n",
        "    clean_data = converting_data(pdfdata)\r\n",
        "    list_of_list = []\r\n",
        "    for single_list in clean_data:\r\n",
        "        clean_list = []\r\n",
        "        for word in single_list:\r\n",
        "            if word == None:\r\n",
        "                word = \"None\"\r\n",
        "                clean_list.append(word)\r\n",
        "            else:\r\n",
        "                clean_list.append(word)\r\n",
        "        list_of_list.append(clean_list)\r\n",
        "    return list_of_list, data, pdfdata\r\n",
        "\r\n",
        "tabular_data,string_data,string_data_2=reading_list_data(filename)"
      ],
      "execution_count": null,
      "outputs": []
    },
    {
      "cell_type": "markdown",
      "metadata": {
        "id": "IpyjDFOkqpM6"
      },
      "source": [
        "##Pytessract"
      ]
    },
    {
      "cell_type": "markdown",
      "metadata": {
        "id": "1X701Smdqu06"
      },
      "source": [
        "Getting data from image"
      ]
    },
    {
      "cell_type": "code",
      "metadata": {
        "id": "skKj9VS6rB4P"
      },
      "source": [
        "# pip install pdf2image\r\n",
        "# pip install pytesseract"
      ],
      "execution_count": null,
      "outputs": []
    },
    {
      "cell_type": "code",
      "metadata": {
        "id": "FRd9ansMrRnT"
      },
      "source": [
        "import pytesseract\r\n",
        "from pdf2image import convert_from_path\r\n",
        "\r\n",
        "custom_config_lstm = '-c preserve_interword_spaces=1 --oem 3 --psm 1'\r\n",
        "for page in convert_from_path(image_filename):\r\n",
        "    data= pytesseract.image_to_string(page, config=custom_config_lstm)\r\n",
        "    print(data)"
      ],
      "execution_count": null,
      "outputs": []
    },
    {
      "cell_type": "markdown",
      "metadata": {
        "id": "M4eNvelhrxz5"
      },
      "source": [
        "##Get data from digital image using Textract"
      ]
    },
    {
      "cell_type": "code",
      "metadata": {
        "id": "pBIL-QXsXKnK"
      },
      "source": [
        "# pip install textract"
      ],
      "execution_count": null,
      "outputs": []
    },
    {
      "cell_type": "code",
      "metadata": {
        "id": "DjbD_9eRZhb0"
      },
      "source": [
        "import textract\r\n",
        "\r\n",
        "text = textract.process(image_filename, method='tesseract', encoding='ascii',language='eng')\r\n",
        "print(text)"
      ],
      "execution_count": null,
      "outputs": []
    },
    {
      "cell_type": "markdown",
      "metadata": {
        "id": "-xRiHqnUZiJZ"
      },
      "source": [
        "Converting Pdf to image"
      ]
    },
    {
      "cell_type": "code",
      "metadata": {
        "id": "ehbUNfx6Zhey"
      },
      "source": [
        "from pdf2image import convert_from_path\r\n",
        "import pdf2image\r\n",
        "\r\n",
        "def pdf_to_img(pdf_file):\r\n",
        "    return pdf2image.convert_from_path(pdf_file,600)\r\n",
        "\r\n",
        "\r\n",
        "def ocr_core(file):\r\n",
        "    text = pytesseract.image_to_string(file)\r\n",
        "    return text\r\n",
        "\r\n",
        "\r\n",
        "def print_pages(pdf_file):\r\n",
        "    images = pdf_to_img(pdf_file)\r\n",
        "    plt.figure(figsize=(20,20))\r\n",
        "    for i in images:\r\n",
        "        print(i)\r\n",
        "        plt.imshow(i)\r\n",
        "        i.save('out.jpg', 'JPEG')\r\n",
        "\r\n",
        "    plt.show()\r\n",
        "    for pg, img in enumerate(images):\r\n",
        "        print(ocr_core(img))\r\n",
        "\r\n",
        "\r\n",
        "print_pages(image_filename) \r\n"
      ],
      "execution_count": null,
      "outputs": []
    },
    {
      "cell_type": "markdown",
      "metadata": {
        "id": "VWUdJKZ_Zxa-"
      },
      "source": [
        "## Covert Image data to string"
      ]
    },
    {
      "cell_type": "code",
      "metadata": {
        "id": "0yDQZ89pZy9U"
      },
      "source": [
        "from PIL import Image\r\n",
        "data=pytesseract.image_to_string(Image.open(image_filename))\r\n",
        "print(data)"
      ],
      "execution_count": null,
      "outputs": []
    },
    {
      "cell_type": "markdown",
      "metadata": {
        "id": "TX2bM2DqZ1W4"
      },
      "source": [
        "## Reading files of Image PDF"
      ]
    },
    {
      "cell_type": "code",
      "metadata": {
        "id": "_72S6VRIZ1nl"
      },
      "source": [
        "from pdf2image import convert_from_path\r\n",
        "\r\n",
        "pages = convert_from_path(filename, 500)\r\n",
        "i=1\r\n",
        "for page in pages:\r\n",
        "    page.save('out'+str(i)+'.jpg', 'JPEG')\r\n",
        "    text = pytesseract.image_to_string(Image.open('out'+str(i)+'.jpg'))\r\n",
        "    #print(text)\r\n",
        "    i=i+1"
      ],
      "execution_count": null,
      "outputs": []
    },
    {
      "cell_type": "markdown",
      "metadata": {
        "id": "Px5-Jecqs1yb"
      },
      "source": [
        "##Read File usig pdfplumber"
      ]
    },
    {
      "cell_type": "code",
      "metadata": {
        "id": "Lzr8STduZ7RG"
      },
      "source": [
        "import pdfplumber\r\n",
        "with pdfplumber.open(filename) as pdf:\r\n",
        "    pages=pdf.pages\r\n",
        "    for page in pdf.pages:\r\n",
        "        text=page.extract_text()\r\n",
        "        print(text)\r\n",
        "        break"
      ],
      "execution_count": null,
      "outputs": []
    },
    {
      "cell_type": "markdown",
      "metadata": {
        "id": "7QT4M9sMtFa1"
      },
      "source": [
        "## Read Heavy / Large fle in few seconds Optimize code of pdfminer"
      ]
    },
    {
      "cell_type": "code",
      "metadata": {
        "id": "Ja4TrjVOaNpS"
      },
      "source": [
        "import io\r\n",
        "from pdfminer.converter import TextConverter\r\n",
        "from pdfminer.pdfinterp import PDFPageInterpreter\r\n",
        "from pdfminer.pdfinterp import PDFResourceManager\r\n",
        "from pdfminer.pdfpage import PDFPage\r\n",
        "\r\n",
        "\r\n",
        "def process_file(pdf_path):\r\n",
        "    resource_manager = PDFResourceManager()\r\n",
        "    fake_file_handle = io.StringIO()\r\n",
        "    converter = TextConverter(resource_manager, fake_file_handle)\r\n",
        "    page_interpreter = PDFPageInterpreter(resource_manager, converter)\r\n",
        "    \r\n",
        "    with open(pdf_path, 'rb') as fh:\r\n",
        "        for page in PDFPage.get_pages(fh, caching=True, check_extractable=True):\r\n",
        "            page_interpreter.process_page(page)\r\n",
        "        text = fake_file_handle.getvalue()\r\n",
        "    # close open handles\r\n",
        "    converter.close()\r\n",
        "    fake_file_handle.close()\r\n",
        "    if text:\r\n",
        "        return text\r\n",
        "data=process_file(filename)\r\n",
        "data"
      ],
      "execution_count": null,
      "outputs": []
    },
    {
      "cell_type": "markdown",
      "metadata": {
        "id": "IQ1dK2VFtTQh"
      },
      "source": [
        "## Read pdf fie from tika"
      ]
    },
    {
      "cell_type": "code",
      "metadata": {
        "id": "q01uxiaQaPy0"
      },
      "source": [
        "from tika import parser\r\n",
        "parsedPDF = parser.from_file(\"testing.pdf\")\r\n",
        "#print(parsedPDF['content'].strip())"
      ],
      "execution_count": null,
      "outputs": []
    },
    {
      "cell_type": "markdown",
      "metadata": {
        "id": "EzCCXGSBlHNQ"
      },
      "source": [
        "## FITZ"
      ]
    },
    {
      "cell_type": "code",
      "metadata": {
        "id": "Ir71hvxoaP14"
      },
      "source": [
        "\r\n",
        "import fitz\r\n",
        "myfile = 'testing.pdf'\r\n",
        "doc  =fitz.open(myfile)\r\n",
        "page=doc[0]\r\n",
        "text = page.getText(\"text\")\r\n",
        "#rint(text)"
      ],
      "execution_count": null,
      "outputs": []
    },
    {
      "cell_type": "markdown",
      "metadata": {
        "id": "GUwiwHSQlByn"
      },
      "source": [
        "## PYPDF2 making XFA"
      ]
    },
    {
      "cell_type": "code",
      "metadata": {
        "id": "FTIPqx9RaUUI"
      },
      "source": [
        "import PyPDF2 as pypdf\r\n",
        "def findInDict(needle, haystack):\r\n",
        "    for key in haystack.keys():\r\n",
        "        try:\r\n",
        "            value=haystack[key]\r\n",
        "        except:\r\n",
        "            continue\r\n",
        "        if key==needle:\r\n",
        "            return value\r\n",
        "        if isinstance(value,dict):            \r\n",
        "            x=findInDict(needle,value)            \r\n",
        "            if x is not None:\r\n",
        "                return x\r\n",
        "            \r\n",
        "pdfobject=open('test.pdf','rb')\r\n",
        "pdf=pypdf.PdfFileReader(pdfobject)\r\n",
        "\r\n",
        "xfa=findInDict('/XFA',pdf.resolvedObjects)\r\n",
        "xml=xfa[5].getObject().getData()\r\n",
        "\r\n",
        "\r\n",
        "#display(xml.decode('utf-8'))"
      ],
      "execution_count": null,
      "outputs": []
    },
    {
      "cell_type": "code",
      "metadata": {
        "id": "xDNbXmGxaUWh"
      },
      "source": [
        "def extract_text_from_pdf(pdf_path):\r\n",
        "    resource_manager = PDFResourceManager()\r\n",
        "    fake_file_handle = io.StringIO()\r\n",
        "    converter = TextConverter(resource_manager, fake_file_handle)\r\n",
        "    page_interpreter = PDFPageInterpreter(resource_manager, converter)\r\n",
        "    with open(pdf_path, 'rb') as fh:\r\n",
        "        for page in PDFPage.get_pages(fh, \r\n",
        "                                      caching=True,\r\n",
        "                                      check_extractable=True):\r\n",
        "            page_interpreter.process_page(page)\r\n",
        "        text = fake_file_handle.getvalue()\r\n",
        "    # close open handles\r\n",
        "    converter.close()\r\n",
        "    fake_file_handle.close()\r\n",
        "    if text:\r\n",
        "        return text\r\n",
        "if __name__ == '__main__':\r\n",
        "    print(extract_text_from_pdf('testing.pdf'))"
      ],
      "execution_count": null,
      "outputs": []
    },
    {
      "cell_type": "markdown",
      "metadata": {
        "id": "LsCRcfpjkwlT"
      },
      "source": [
        "##PDFminer"
      ]
    },
    {
      "cell_type": "code",
      "metadata": {
        "id": "A59nfezkaYY_"
      },
      "source": [
        "from io import StringIO\r\n",
        "from pdfminer.converter import TextConverter\r\n",
        "from pdfminer.layout import LAParams\r\n",
        "from pdfminer.pdfdocument import PDFDocument\r\n",
        "from pdfminer.pdfinterp import PDFResourceManager, PDFPageInterpreter\r\n",
        "from pdfminer.pdfpage import PDFPage\r\n",
        "from pdfminer.pdfparser import PDFParser\r\n",
        "\r\n",
        "output_string = StringIO()\r\n",
        "with open('testing.pdf', 'rb') as in_file:\r\n",
        "    parser = PDFParser(in_file)\r\n",
        "    doc = PDFDocument(parser)\r\n",
        "    rsrcmgr = PDFResourceManager()\r\n",
        "    device = TextConverter(rsrcmgr, output_string, laparams=LAParams())\r\n",
        "    interpreter = PDFPageInterpreter(rsrcmgr, device)\r\n",
        "    for page in PDFPage.create_pages(doc):\r\n",
        "        interpreter.process_page(page)\r\n",
        "\r\n",
        "print(output_string.getvalue())"
      ],
      "execution_count": null,
      "outputs": []
    },
    {
      "cell_type": "markdown",
      "metadata": {
        "id": "LeimE_smkqY9"
      },
      "source": [
        "#Pypdf2"
      ]
    },
    {
      "cell_type": "code",
      "metadata": {
        "id": "NJKh8wkPaUct"
      },
      "source": [
        "import PyPDF2\r\n",
        "import collections\r\n",
        "pdf_file = open('testing.pdf', 'rb')\r\n",
        "read_pdf = PyPDF2.PdfFileReader(pdf_file)\r\n",
        "number_of_pages = read_pdf.getNumPages()\r\n",
        "c = collections.Counter(range(number_of_pages))\r\n",
        "for i in c:\r\n",
        "    page = read_pdf.getPage(i)\r\n",
        "    page_content = page.extractText()\r\n",
        "    #print (page_content.encode('utf-8'))"
      ],
      "execution_count": null,
      "outputs": []
    },
    {
      "cell_type": "markdown",
      "metadata": {
        "id": "Zmr4IV-ikjSR"
      },
      "source": [
        "#Textract"
      ]
    },
    {
      "cell_type": "code",
      "metadata": {
        "id": "WUrk6CU2adRp"
      },
      "source": [
        "import textract\r\n",
        "text = textract.process(\"testing.pdf\")\r\n",
        "print(text)"
      ],
      "execution_count": null,
      "outputs": []
    },
    {
      "cell_type": "markdown",
      "metadata": {
        "id": "ZiBC0jE_kZ9_"
      },
      "source": [
        "#Textract"
      ]
    },
    {
      "cell_type": "code",
      "metadata": {
        "id": "SBXqdihlbMV2"
      },
      "source": [
        "import webbrowser, os\r\n",
        "import json\r\n",
        "import secrets\r\n",
        "import pandas as pd\r\n",
        "import boto3\r\n",
        "import io\r\n",
        "import boto3\r\n",
        "import pytesseract\r\n",
        "from io import BytesIO\r\n",
        "import sys\r\n",
        "from pprint import pprint\r\n",
        "\r\n",
        "\r\n",
        "def get_rows_columns_map(table_result, blocks_map):\r\n",
        "    rows = {}\r\n",
        "    for relationship in table_result['Relationships']:\r\n",
        "        if relationship['Type'] == 'CHILD':\r\n",
        "            for child_id in relationship['Ids']:\r\n",
        "                cell = blocks_map[child_id]\r\n",
        "                if cell['BlockType'] == 'CELL':\r\n",
        "                    row_index = cell['RowIndex']\r\n",
        "                    col_index = cell['ColumnIndex']\r\n",
        "                    if row_index not in rows:\r\n",
        "                        # create new row\r\n",
        "                        rows[row_index] = {}\r\n",
        "                        \r\n",
        "                    # get the text value\r\n",
        "                    rows[row_index][col_index] = get_text(cell, blocks_map)\r\n",
        "    return rows\r\n",
        "\r\n",
        "\r\n",
        "def get_text(result, blocks_map):\r\n",
        "    text = ''\r\n",
        "    if 'Relationships' in result:\r\n",
        "        for relationship in result['Relationships']:\r\n",
        "            if relationship['Type'] == 'CHILD':\r\n",
        "                for child_id in relationship['Ids']:\r\n",
        "                    word = blocks_map[child_id]\r\n",
        "                    if word['BlockType'] == 'WORD':\r\n",
        "                        text += word['Text'] + ' '\r\n",
        "                    if word['BlockType'] == 'SELECTION_ELEMENT':\r\n",
        "                        if word['SelectionStatus'] =='SELECTED':\r\n",
        "                            text +=  'X '    \r\n",
        "    return text\r\n",
        "\r\n",
        "\r\n",
        "def get_table_csv_results(file_name):\r\n",
        "\r\n",
        "    with open(file_name, 'rb') as file:\r\n",
        "        img_test = file.read()\r\n",
        "        bytes_test = bytearray(img_test)\r\n",
        "        #print('Image loaded', file_name)\r\n",
        "\r\n",
        "    # process using image bytes\r\n",
        "    # get the results\r\n",
        "    #client = boto3.client('textract')\r\n",
        "    AWSAccessKeyId='AKICIO552JQAJCIO552JQOLNRQ'\r\n",
        "    AWSSecretKey='Lxu6BXFuP0z9Lxu6BLxu6BXFuP0z9uP0UGlzXiuP0UGlzXi'\r\n",
        "\r\n",
        "    client = boto3.client(\r\n",
        "        'textract',\r\n",
        "         region_name='us-west-2',\r\n",
        "        aws_access_key_id=AWSAccessKeyId,\r\n",
        "        aws_secret_access_key=AWSSecretKey,\r\n",
        "    )\r\n",
        "\r\n",
        "\r\n",
        "    response = client.analyze_document(Document={'Bytes': bytes_test}, FeatureTypes=['TABLES'])\r\n",
        "\r\n",
        "    # Get the text blocks\r\n",
        "    blocks=response['Blocks']\r\n",
        "    #pprint(blocks)\r\n",
        "\r\n",
        "    blocks_map = {}\r\n",
        "    table_blocks = []\r\n",
        "    for block in blocks:\r\n",
        "        blocks_map[block['Id']] = block\r\n",
        "        if block['BlockType'] == \"TABLE\":\r\n",
        "            table_blocks.append(block)\r\n",
        "\r\n",
        "    if len(table_blocks) <= 0:\r\n",
        "        return \"<b> NO Table FOUND </b>\"\r\n",
        "\r\n",
        "    csv = ''\r\n",
        "    for index, table in enumerate(table_blocks):\r\n",
        "        csv += generate_table_csv(table, blocks_map, index +1)\r\n",
        "        csv += '\\n\\n'\r\n",
        "\r\n",
        "    return csv\r\n",
        "\r\n",
        "def generate_table_csv(table_result, blocks_map, table_index):\r\n",
        "    rows = get_rows_columns_map(table_result, blocks_map)\r\n",
        "\r\n",
        "    table_id = 'Table_' + str(table_index)\r\n",
        "    \r\n",
        "    # get cells.\r\n",
        "    csv = 'Table: {0}\\n\\n'.format(table_id)\r\n",
        "\r\n",
        "    for row_index, cols in rows.items():\r\n",
        "        \r\n",
        "        for col_index, text in cols.items():\r\n",
        "            csv += '{}'.format(text) + \",\"\r\n",
        "        csv += '\\n'\r\n",
        "        \r\n",
        "    csv += '\\n\\n\\n'\r\n",
        "    return csv\r\n",
        "\r\n",
        "def main(file_name):\r\n",
        "    global table_csv\r\n",
        "    table_csv = get_table_csv_results(file_name)\r\n",
        "\r\n",
        "    output_file = 'output_.csv'\r\n",
        "\r\n",
        "    # replace content\r\n",
        "    with open(output_file, \"wt\") as fout:\r\n",
        "        fout.write(table_csv)\r\n",
        "\r\n",
        "    # show the results\r\n",
        "    print('CSV OUTPUT FILE: ', output_file)\r\n",
        "\r\n",
        "\r\n",
        "\r\n",
        "if __name__ == \"__main__\":\r\n",
        "    file_name = sys.argv[1]\r\n",
        "    \r\n",
        "    main('ebcaadbc98a2af17479493e1d4fed601d496d1c142d3a9.jpeg')"
      ],
      "execution_count": null,
      "outputs": []
    },
    {
      "cell_type": "markdown",
      "metadata": {
        "id": "UHkKqcljl5Pq"
      },
      "source": [
        "## ** Common Libraries install using pip in Requirments.txt"
      ]
    },
    {
      "cell_type": "code",
      "metadata": {
        "id": "L35Kt3jCbN4h"
      },
      "source": [
        "pdfplumber\r\n",
        "PyMuPDF\r\n",
        "pdf2image\r\n",
        "botocore\r\n",
        "Keras\r\n",
        "lxml\r\n",
        "pandas\r\n",
        "fuckit\r\n",
        "imutils\r\n",
        "wheel\r\n",
        "tabula-py\r\n",
        "Pillow\r\n",
        "numpy\r\n",
        "flask\r\n",
        "PyPDF2\r\n",
        "pytesseract\r\n",
        "filecache\r\n",
        "python-poppler\r\n",
        "opencv-python\r\n",
        "pdfminer\r\n",
        "pdfquery\r\n",
        "Flask\r\n",
        "spacy\r\n",
        "scikit-image\r\n",
        "google-cloud-vision"
      ],
      "execution_count": null,
      "outputs": []
    },
    {
      "cell_type": "markdown",
      "metadata": {
        "id": "qDKu84eamIM7"
      },
      "source": [
        "## ** Commands using termainal\r\n"
      ]
    },
    {
      "cell_type": "code",
      "metadata": {
        "id": "mRiAgyFtbmlF"
      },
      "source": [
        "python3 -m spacy download en_core_web_sm\r\n",
        "sudo apt-get install python-poppler\r\n",
        "sudo apt-get install tesseract-ocr\r\n",
        "sudo apt-get install -y poppler-utils\r\n",
        "sudo apt-get install poppler-utils\r\n",
        "python3 setup.py bdist_wheel\r\n",
        "twine upload dist/*"
      ],
      "execution_count": null,
      "outputs": []
    }
  ]
}