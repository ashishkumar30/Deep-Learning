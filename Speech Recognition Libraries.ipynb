{
 "cells": [
  {
   "cell_type": "code",
   "execution_count": null,
   "metadata": {},
   "outputs": [],
   "source": [
    "#pip install SpeechRecognition pydub"
   ]
  },
  {
   "cell_type": "markdown",
   "metadata": {},
   "source": [
    "# Multithreading "
   ]
  },
  {
   "cell_type": "code",
   "execution_count": null,
   "metadata": {},
   "outputs": [],
   "source": [
    "# # Python program to illustrate the concept \n",
    "# # of threading \n",
    "# import threading \n",
    "# import os \n",
    "# import time\n",
    "\n",
    "# def task1(): \n",
    "#     import pyaudio\n",
    "#     import speech_recognition as sr\n",
    "#     import speech_recognition as sr\n",
    "#     r = sr.Recognizer()\n",
    "#     with sr.Microphone() as source:\n",
    "#         print(\"Microphone On:\")    \n",
    "#         wave_obj = sa.WaveObject.from_wave_file(\"two.wav\")\n",
    "#         print(\"End speaking\")\n",
    "#         play_obj = wave_obj.play()\n",
    "#         play_obj.wait_done()\n",
    "#         audio = r.listen(source)\n",
    "#         print(\"Done\")\n",
    "#         text = r.recognize_google(audio)\n",
    "#         print(\"Microphone OFF : {}\".format(text))\n",
    "\n",
    "    \n",
    "    \n",
    "    \n",
    "# def task2(): \n",
    "#     import simpleaudio as sa\n",
    "#     print(\"Start speaking\")\n",
    "#     wave_obj = sa.WaveObject.from_wave_file(\"two.wav\")\n",
    "#     print(\"End speaking\")\n",
    "#     play_obj = wave_obj.play()\n",
    "#     play_obj.wait_done()\n",
    "    \n",
    "# if __name__ == \"__main__\": \n",
    "#     # print ID of current process  \n",
    "#     # creating threads \n",
    "#     t1 = threading.Thread(target=task1, name='t1') \n",
    "#     t2 = threading.Thread(target=task2, name='t2')   \n",
    "  \n",
    "#     # starting threads \n",
    "#     t1.start() \n",
    "#     t2.start()"
   ]
  },
  {
   "cell_type": "markdown",
   "metadata": {},
   "source": [
    "*******"
   ]
  },
  {
   "cell_type": "markdown",
   "metadata": {},
   "source": [
    "# Record sound"
   ]
  },
  {
   "cell_type": "code",
   "execution_count": 49,
   "metadata": {},
   "outputs": [
    {
     "name": "stdout",
     "output_type": "stream",
     "text": [
      "Recording...\n",
      "Finished recording.\n"
     ]
    }
   ],
   "source": [
    "import pyaudio\n",
    "import wave\n",
    "\n",
    "# the file name output you want to record into\n",
    "filename = \"recorded.wav\"\n",
    "# set the chunk size of 1024 samples\n",
    "chunk = 1024\n",
    "# sample format\n",
    "FORMAT = pyaudio.paInt16\n",
    "# mono, change to 2 if you want stereo\n",
    "channels = 1\n",
    "# 44100 samples per second\n",
    "sample_rate = 44100\n",
    "record_seconds = 5\n",
    "# initialize PyAudio object\n",
    "p = pyaudio.PyAudio()\n",
    "# open stream object as input & output\n",
    "stream = p.open(format=FORMAT,\n",
    "                channels=channels,\n",
    "                rate=sample_rate,\n",
    "                input=True,\n",
    "                output=True,\n",
    "                frames_per_buffer=chunk)\n",
    "frames = []\n",
    "print(\"Recording...\")\n",
    "for i in range(int(44100 / chunk * record_seconds)):\n",
    "    data = stream.read(chunk)\n",
    "    # if you want to hear your voice while recording\n",
    "    # stream.write(data)\n",
    "    frames.append(data)\n",
    "print(\"Finished recording.\")\n",
    "# stop and close stream\n",
    "stream.stop_stream()\n",
    "stream.close()\n",
    "# terminate pyaudio object\n",
    "p.terminate()\n",
    "# save audio file\n",
    "# open the file in 'write bytes' mode\n",
    "wf = wave.open(filename, \"wb\")\n",
    "# set the channels\n",
    "wf.setnchannels(channels)\n",
    "# set the sample format\n",
    "wf.setsampwidth(p.get_sample_size(FORMAT))\n",
    "# set the sample rate\n",
    "wf.setframerate(sample_rate)\n",
    "# write the frames as bytes\n",
    "wf.writeframes(b\"\".join(frames))\n",
    "# close the file\n",
    "wf.close()\n",
    "\n",
    "# ##import simpleaudio as sa\n",
    "# wave_obj = sa.WaveObject.from_wave_file(\"recorded.wav\")\n",
    "# play_obj = wave_obj.play()\n",
    "# play_obj.wait_done()\n",
    "# print(\"Complete\")\n"
   ]
  },
  {
   "cell_type": "markdown",
   "metadata": {},
   "source": [
    "# Extract text from file saved (in local)"
   ]
  },
  {
   "cell_type": "code",
   "execution_count": 50,
   "metadata": {},
   "outputs": [
    {
     "name": "stdout",
     "output_type": "stream",
     "text": [
      "Done!\n",
      "hello this is Ashish\n"
     ]
    }
   ],
   "source": [
    "import speech_recognition as sr\n",
    "r = sr.Recognizer()\n",
    "audio ='recorded.wav'\n",
    "with sr.AudioFile(audio) as source:\n",
    "    audio = r.record(source)\n",
    "    print ('Done!')\n",
    "try:\n",
    "    text = r.recognize_google(audio)\n",
    "    print (text)\n",
    "except Exception as e:\n",
    "    print ('e')"
   ]
  },
  {
   "cell_type": "markdown",
   "metadata": {},
   "source": [
    "# Play recorded sound"
   ]
  },
  {
   "cell_type": "code",
   "execution_count": 51,
   "metadata": {},
   "outputs": [
    {
     "name": "stdout",
     "output_type": "stream",
     "text": [
      "Complete\n"
     ]
    }
   ],
   "source": [
    "import simpleaudio as sa\n",
    "wave_obj = sa.WaveObject.from_wave_file(\"recorded.wav\")\n",
    "play_obj = wave_obj.play()\n",
    "play_obj.wait_done()\n",
    "print(\"Complete\")"
   ]
  },
  {
   "cell_type": "markdown",
   "metadata": {},
   "source": [
    "# extract text from sound (mic)"
   ]
  },
  {
   "cell_type": "code",
   "execution_count": 7,
   "metadata": {},
   "outputs": [
    {
     "name": "stdout",
     "output_type": "stream",
     "text": [
      "Microphone On:\n",
      "Done\n",
      "Microphone OFF : ITC Rashi\n"
     ]
    }
   ],
   "source": [
    "'''\n",
    "pip install pipwin\n",
    "pipwin install pyaudio\n",
    "'''\n",
    "import pyaudio\n",
    "import speech_recognition as sr\n",
    "import speech_recognition as sr\n",
    "r = sr.Recognizer()\n",
    "with sr.Microphone() as source:\n",
    "    print(\"Microphone On:\")    \n",
    "    audio = r.listen(source)\n",
    "    print(\"Done\")\n",
    "    text = r.recognize_google(audio)\n",
    "    print(\"Microphone OFF : {}\".format(text))"
   ]
  }
 ],
 "metadata": {
  "kernelspec": {
   "display_name": "Python 3",
   "language": "python",
   "name": "python3"
  },
  "language_info": {
   "codemirror_mode": {
    "name": "ipython",
    "version": 3
   },
   "file_extension": ".py",
   "mimetype": "text/x-python",
   "name": "python",
   "nbconvert_exporter": "python",
   "pygments_lexer": "ipython3",
   "version": "3.7.6"
  }
 },
 "nbformat": 4,
 "nbformat_minor": 4
}
