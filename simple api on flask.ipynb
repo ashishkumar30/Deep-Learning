{
  "nbformat": 4,
  "nbformat_minor": 0,
  "metadata": {
    "colab": {
      "name": "simple api on flask.ipynb",
      "private_outputs": true,
      "provenance": [],
      "collapsed_sections": [],
      "authorship_tag": "ABX9TyPvTj5HiilW/Vs4ep57WTNn",
      "include_colab_link": true
    },
    "kernelspec": {
      "name": "python3",
      "display_name": "Python 3"
    }
  },
  "cells": [
    {
      "cell_type": "markdown",
      "metadata": {
        "id": "view-in-github",
        "colab_type": "text"
      },
      "source": [
        "<a href=\"https://colab.research.google.com/github/ashishkumar30/ML-AI-Python-Codes/blob/master/simple%20api%20on%20flask.ipynb\" target=\"_parent\"><img src=\"https://colab.research.google.com/assets/colab-badge.svg\" alt=\"Open In Colab\"/></a>"
      ]
    },
    {
      "cell_type": "code",
      "metadata": {
        "id": "oSzQAwJMWHiZ"
      },
      "source": [
        "import os\n",
        "import secrets\n",
        "\n",
        "from string import punctuation\n",
        "from flask import Flask, request, jsonify\n",
        "from flask import Flask, request, send_from_directory\n",
        "\n",
        "# Project imported\n",
        "\n",
        "\n",
        "app = Flask(__name__)\n",
        "\n",
        "# checking folder\n",
        "# to save files in a folder for processing\n",
        "\n",
        "files = os.listdir()\n",
        "check = os.path.isdir('files')\n",
        "if check:\n",
        "    print(\"yes files folder exists\")\n",
        "else:\n",
        "    os.mkdir(\"files\")\n",
        "    print(\"No folder for saving pdf found creating new files folder\")\n",
        "# to save files in a folder for processing\n",
        "\n",
        "\n",
        "\n",
        "@app.route('/', methods=['GET', 'POST'])\n",
        "def bsa_main():\n",
        "    # get file from request\n",
        "    # for single file\n",
        "    file = request.files['file']\n",
        "   \n",
        "    # saving file to local system\n",
        "    file = request.files['file']\n",
        "    name = secrets.token_hex(64) + '.pdf'\n",
        "    UPLOAD_FOLDER = os.path.join(os.getcwd(), 'files')\n",
        "    file.save(os.path.join(UPLOAD_FOLDER, name))\n",
        "    path_of_file = os.path.join(UPLOAD_FOLDER, name)\n",
        "    print(\"file location is:-\",path_of_file, \"File name is:-\",name)\n",
        "\n",
        "\n",
        "    # for multiple files\n",
        "    file_multiple = flask.request.files.getlist(\"file\")\n",
        "    print(file_multiple)\n",
        "\n",
        "\n",
        "    # GEt data from Form  \n",
        "    title_str = request.form['titlestring']\n",
        "    if title_str:\n",
        "        title_str=title_str.title()\n",
        "        return {\"Title string\":title_str}\n",
        "    else:\n",
        "        return {\"Title string\":\"None\"}\n",
        "\n",
        "\n",
        "if __name__ == '__main__':\n",
        "    #app.run(host='0.0.0.0',debug=True,port=5000)\n",
        "    app.run()\n",
        "\n"
      ],
      "execution_count": null,
      "outputs": []
    }
  ]
}